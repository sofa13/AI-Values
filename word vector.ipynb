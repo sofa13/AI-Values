{
 "cells": [
  {
   "cell_type": "markdown",
   "metadata": {},
   "source": [
    "# Setup"
   ]
  },
  {
   "cell_type": "code",
   "execution_count": 93,
   "metadata": {},
   "outputs": [],
   "source": [
    "#from glove import Corpus, Glove\n",
    "\n",
    "import numpy as np\n",
    "\n",
    "#from nltk.stem import PorterStemmer\n",
    "from nltk.stem.snowball import SnowballStemmer\n",
    "\n",
    "from sklearn.manifold import TSNE\n",
    "\n",
    "import matplotlib.pyplot as plt\n",
    "\n",
    "import plotly\n",
    "import plotly.plotly as py\n",
    "import plotly.graph_objs as go\n",
    "plotly.tools.set_credentials_file(username='philsophie', api_key='BluoHvhy1CNCccyCOycW')\n",
    "\n",
    "import gensim\n",
    "from gensim.parsing.preprocessing import remove_stopwords\n",
    "\n",
    "from scipy import spatial"
   ]
  },
  {
   "cell_type": "markdown",
   "metadata": {},
   "source": [
    "# Read files"
   ]
  },
  {
   "cell_type": "code",
   "execution_count": 2,
   "metadata": {},
   "outputs": [
    {
     "name": "stdout",
     "output_type": "stream",
     "text": [
      "Found 400000 word vectors.\n"
     ]
    }
   ],
   "source": [
    "embeddings_index = {}\n",
    "glove_file = './glove.6B/glove.6B.300d.txt'\n",
    "\n",
    "with open(glove_file, \"r\", encoding='utf-8') as f:\n",
    "    for line in f:\n",
    "        values = line.split()\n",
    "        word = values[0]\n",
    "        coefs = np.asarray(values[1:], dtype='float32')\n",
    "        embeddings_index[word] = coefs\n",
    "\n",
    "print('Found %s word vectors.' % len(embeddings_index))"
   ]
  },
  {
   "cell_type": "code",
   "execution_count": 3,
   "metadata": {},
   "outputs": [],
   "source": [
    "#print(embeddings_index['abundance'])"
   ]
  },
  {
   "cell_type": "code",
   "execution_count": 17,
   "metadata": {},
   "outputs": [
    {
     "data": {
      "text/plain": [
       "483"
      ]
     },
     "execution_count": 17,
     "metadata": {},
     "output_type": "execute_result"
    }
   ],
   "source": [
    "with open(\"values.txt\", \"r\", encoding='utf-8') as fin:\n",
    "    values = fin.readlines()\n",
    "\n",
    "values = [x.strip().lower() for x in values] \n",
    "len(values)"
   ]
  },
  {
   "cell_type": "code",
   "execution_count": 6,
   "metadata": {},
   "outputs": [
    {
     "data": {
      "text/plain": [
       "48"
      ]
     },
     "execution_count": 6,
     "metadata": {},
     "output_type": "execute_result"
    }
   ],
   "source": [
    "texts = []\n",
    "with open(\"titles.txt\", \"r\", encoding='utf-8') as fin:\n",
    "    for line in fin:\n",
    "        line = remove_stopwords(line)\n",
    "        texts.append(gensim.utils.simple_preprocess(line))\n",
    "\n",
    "len(texts)"
   ]
  },
  {
   "cell_type": "markdown",
   "metadata": {},
   "source": [
    "# Helper functions"
   ]
  },
  {
   "cell_type": "code",
   "execution_count": 23,
   "metadata": {},
   "outputs": [],
   "source": [
    "def plotplotly(X, y, text=False):\n",
    "    mode = 'markers'\n",
    "    if text:\n",
    "        mode = 'markers+text'\n",
    "        \n",
    "    data = [\n",
    "    go.Scatter(\n",
    "        x=X[:, 0],\n",
    "        y=X[:, 1],\n",
    "        mode=mode,\n",
    "        text=y\n",
    "        )\n",
    "    ]\n",
    "\n",
    "    layout = go.Layout(title='Hover over the points to see the text')\n",
    "\n",
    "    fig = go.Figure(data=data, layout=layout)\n",
    "    return fig"
   ]
  },
  {
   "cell_type": "code",
   "execution_count": 88,
   "metadata": {},
   "outputs": [],
   "source": [
    "def hashdictkey(key):\n",
    "    return str(list(key))"
   ]
  },
  {
   "cell_type": "code",
   "execution_count": 87,
   "metadata": {},
   "outputs": [],
   "source": [
    "def unhashdictkey(key, asnparray=True):\n",
    "    if asnparray:\n",
    "        return np.array(eval(key))\n",
    "    return eval(key)"
   ]
  },
  {
   "cell_type": "code",
   "execution_count": 95,
   "metadata": {},
   "outputs": [],
   "source": [
    "def getDistance(list1, list2):\n",
    "    return spatial.distance.cosine(list1, list2)"
   ]
  },
  {
   "cell_type": "code",
   "execution_count": 98,
   "metadata": {},
   "outputs": [],
   "source": [
    "def compileMatrix(comparelist):\n",
    "    \"\"\"\n",
    "    Given a list of vectors, this method returns a matrix of pairwise comparison calculations of distances\n",
    "    :param tree_list: list of trees in bracket notation\n",
    "    :return: matrix of pairwise comparisons using distance\n",
    "    \"\"\"\n",
    "\n",
    "    print(\"# comparelist:\", len(comparelist))\n",
    "\n",
    "    n = len(comparelist)\n",
    "    print(\"# n: \", n)\n",
    "    disMatrix = [x[:] for x in [[0] * n] * n]\n",
    "    #threshold = 0.32\n",
    "\n",
    "    for i in range(n - 1):\n",
    "        for j in range(i + 1, n):\n",
    "            list1 = comparelist[i]\n",
    "            list2 = comparelist[j]\n",
    "\n",
    "            # thresholds\n",
    "            \n",
    "            # distance\n",
    "            dis = getDistance(list1, list2)\n",
    "\n",
    "            # update matrix\n",
    "            disMatrix[i][j] = disMatrix[j][i] = dis\n",
    "    \n",
    "    return disMatrix"
   ]
  },
  {
   "cell_type": "markdown",
   "metadata": {},
   "source": [
    "# Values vec"
   ]
  },
  {
   "cell_type": "code",
   "execution_count": 18,
   "metadata": {},
   "outputs": [
    {
     "data": {
      "text/plain": [
       "455"
      ]
     },
     "execution_count": 18,
     "metadata": {},
     "output_type": "execute_result"
    }
   ],
   "source": [
    "X = np.array([embeddings_index[x] for x in values if x in embeddings_index])\n",
    "y = np.array([x for x in values if x in embeddings_index])\n",
    "len(X)"
   ]
  },
  {
   "cell_type": "code",
   "execution_count": 19,
   "metadata": {},
   "outputs": [],
   "source": [
    "X_embedded = TSNE(n_components=2, perplexity=40, verbose=0).fit_transform(X)"
   ]
  },
  {
   "cell_type": "code",
   "execution_count": 20,
   "metadata": {},
   "outputs": [
    {
     "data": {
      "text/plain": [
       "<matplotlib.collections.PathCollection at 0x7f7f14e89128>"
      ]
     },
     "execution_count": 20,
     "metadata": {},
     "output_type": "execute_result"
    },
    {
     "data": {
      "image/png": "[encoded data removed]",
      "text/plain": [
       "<matplotlib.figure.Figure at 0x7f7f14f3ba90>"
      ]
     },
     "metadata": {},
     "output_type": "display_data"
    }
   ],
   "source": [
    "plt.scatter(X_embedded[:, 0], X_embedded[:, 1])"
   ]
  },
  {
   "cell_type": "code",
   "execution_count": 26,
   "metadata": {},
   "outputs": [
    {
     "data": {
      "text/html": [
       "<iframe id=\"igraph\" scrolling=\"no\" style=\"border:none;\" seamless=\"seamless\" src=\"https://plot.ly/~philsophie/2.embed\" height=\"525px\" width=\"100%\"></iframe>"
      ],
      "text/plain": [
       "<plotly.tools.PlotlyDisplay object>"
      ]
     },
     "execution_count": 26,
     "metadata": {},
     "output_type": "execute_result"
    }
   ],
   "source": [
    "fig = plotplotly(X_embedded, y, text=True)\n",
    "py.iplot(fig, filename='hover-chart-basic')"
   ]
  },
  {
   "cell_type": "markdown",
   "metadata": {},
   "source": [
    "# Title vec (average words)"
   ]
  },
  {
   "cell_type": "code",
   "execution_count": 29,
   "metadata": {},
   "outputs": [
    {
     "name": "stdout",
     "output_type": "stream",
     "text": [
      "48\n",
      "48\n"
     ]
    }
   ],
   "source": [
    "X = []\n",
    "for title in texts:\n",
    "    vec = None\n",
    "    for word in title:\n",
    "        if word in embeddings_index:\n",
    "            if vec is None:\n",
    "                vec = np.array([embeddings_index[word]])\n",
    "            else:\n",
    "                next_vec = embeddings_index[word]\n",
    "                vec = np.concatenate((vec, np.array([next_vec])), axis=0) \n",
    "    \n",
    "    vec = vec.mean(axis=0)\n",
    "    X.append(vec)\n",
    "    \n",
    "y = ['-'.join(t) for t in texts]\n",
    "print(len(y))\n",
    "print(len(X))"
   ]
  },
  {
   "cell_type": "code",
   "execution_count": 30,
   "metadata": {},
   "outputs": [],
   "source": [
    "X_embedded = TSNE(n_components=2, perplexity=40, verbose=0).fit_transform(X)"
   ]
  },
  {
   "cell_type": "code",
   "execution_count": 31,
   "metadata": {},
   "outputs": [
    {
     "data": {
      "text/plain": [
       "<matplotlib.collections.PathCollection at 0x7f7f0f49f438>"
      ]
     },
     "execution_count": 31,
     "metadata": {},
     "output_type": "execute_result"
    },
    {
     "data": {
      "image/png": "[encoded data removed]",
      "text/plain": [
       "<matplotlib.figure.Figure at 0x7f7f0f4e9588>"
      ]
     },
     "metadata": {},
     "output_type": "display_data"
    }
   ],
   "source": [
    "plt.scatter(X_embedded[:, 0], X_embedded[:, 1])"
   ]
  },
  {
   "cell_type": "code",
   "execution_count": 32,
   "metadata": {},
   "outputs": [
    {
     "data": {
      "text/html": [
       "<iframe id=\"igraph\" scrolling=\"no\" style=\"border:none;\" seamless=\"seamless\" src=\"https://plot.ly/~philsophie/2.embed\" height=\"525px\" width=\"100%\"></iframe>"
      ],
      "text/plain": [
       "<plotly.tools.PlotlyDisplay object>"
      ]
     },
     "execution_count": 32,
     "metadata": {},
     "output_type": "execute_result"
    }
   ],
   "source": [
    "fig = plotplotly(X_embedded, y, text=True)\n",
    "py.iplot(fig, filename='hover-chart-basic')"
   ]
  },
  {
   "cell_type": "markdown",
   "metadata": {},
   "source": [
    "# Title vec (title per word)"
   ]
  },
  {
   "cell_type": "code",
   "execution_count": 33,
   "metadata": {},
   "outputs": [
    {
     "name": "stdout",
     "output_type": "stream",
     "text": [
      "276\n",
      "276\n"
     ]
    }
   ],
   "source": [
    "X = []\n",
    "y = []\n",
    "for title in texts:\n",
    "    t = '-'.join(title)\n",
    "    vec = None\n",
    "    for word in title:\n",
    "        if word in embeddings_index:\n",
    "            X.append(embeddings_index[word])\n",
    "            y.append(t)\n",
    "    \n",
    "print(len(X))\n",
    "print(len(y))"
   ]
  },
  {
   "cell_type": "code",
   "execution_count": 34,
   "metadata": {},
   "outputs": [],
   "source": [
    "X_embedded = TSNE(n_components=2, perplexity=40, verbose=0).fit_transform(X)"
   ]
  },
  {
   "cell_type": "code",
   "execution_count": 35,
   "metadata": {},
   "outputs": [
    {
     "data": {
      "text/plain": [
       "<matplotlib.collections.PathCollection at 0x7f7f0f2cada0>"
      ]
     },
     "execution_count": 35,
     "metadata": {},
     "output_type": "execute_result"
    },
    {
     "data": {
      "image/png": "[encoded data removed]",
      "text/plain": [
       "<matplotlib.figure.Figure at 0x7f7f0f29c6d8>"
      ]
     },
     "metadata": {},
     "output_type": "display_data"
    }
   ],
   "source": [
    "plt.scatter(X_embedded[:, 0], X_embedded[:, 1])"
   ]
  },
  {
   "cell_type": "code",
   "execution_count": 36,
   "metadata": {},
   "outputs": [
    {
     "data": {
      "text/html": [
       "<iframe id=\"igraph\" scrolling=\"no\" style=\"border:none;\" seamless=\"seamless\" src=\"https://plot.ly/~philsophie/2.embed\" height=\"525px\" width=\"100%\"></iframe>"
      ],
      "text/plain": [
       "<plotly.tools.PlotlyDisplay object>"
      ]
     },
     "execution_count": 36,
     "metadata": {},
     "output_type": "execute_result"
    }
   ],
   "source": [
    "fig = plotplotly(X_embedded, y)\n",
    "py.iplot(fig, filename='hover-chart-basic')"
   ]
  },
  {
   "cell_type": "markdown",
   "metadata": {},
   "source": [
    "# Title vec (word combinations)"
   ]
  },
  {
   "cell_type": "code",
   "execution_count": 67,
   "metadata": {},
   "outputs": [],
   "source": [
    "def embcomb(embs, words, min_comb=2, max_comb=3):\n",
    "    emb_comb = []\n",
    "    word_comb = []\n",
    "    if len(embs) < min_comb:\n",
    "        return None\n",
    "    for i in range(len(embs)+1):\n",
    "        for j in range(i+2, min(len(embs)+1, i+max_comb+1)):\n",
    "            #print(i, j)\n",
    "            #print(embs[i:j,:])\n",
    "            #print(y[i:j])\n",
    "            ec = np.mean((embs[i:j,:]), axis=0)\n",
    "            emb_comb.append(ec)\n",
    "            word_comb.append(set(y[i:j]))\n",
    "    return [emb_comb, word_comb]"
   ]
  },
  {
   "cell_type": "code",
   "execution_count": 54,
   "metadata": {},
   "outputs": [],
   "source": [
    "embs = np.array([np.array([1,2]), np.array([3,4]), np.array([5,6]), np.array([0,0]), np.array([0,0])])\n",
    "y = np.array([\"this\", \"is\", \"fun\", \"indeed\", \"yay\"])"
   ]
  },
  {
   "cell_type": "code",
   "execution_count": 55,
   "metadata": {},
   "outputs": [
    {
     "name": "stdout",
     "output_type": "stream",
     "text": [
      "[[1 2]\n",
      " [3 4]\n",
      " [5 6]\n",
      " [0 0]\n",
      " [0 0]]\n"
     ]
    }
   ],
   "source": [
    "print(embs)"
   ]
  },
  {
   "cell_type": "code",
   "execution_count": 56,
   "metadata": {},
   "outputs": [
    {
     "name": "stdout",
     "output_type": "stream",
     "text": [
      "0 2\n",
      "[[1 2]\n",
      " [3 4]]\n",
      "['this' 'is']\n",
      "0 3\n",
      "[[1 2]\n",
      " [3 4]\n",
      " [5 6]]\n",
      "['this' 'is' 'fun']\n",
      "1 3\n",
      "[[3 4]\n",
      " [5 6]]\n",
      "['is' 'fun']\n",
      "1 4\n",
      "[[3 4]\n",
      " [5 6]\n",
      " [0 0]]\n",
      "['is' 'fun' 'indeed']\n",
      "2 4\n",
      "[[5 6]\n",
      " [0 0]]\n",
      "['fun' 'indeed']\n",
      "2 5\n",
      "[[5 6]\n",
      " [0 0]\n",
      " [0 0]]\n",
      "['fun' 'indeed' 'yay']\n",
      "3 5\n",
      "[[0 0]\n",
      " [0 0]]\n",
      "['indeed' 'yay']\n",
      "([array([2., 3.]), array([3., 4.]), array([4., 5.]), array([2.66666667, 3.33333333]), array([2.5, 3. ]), array([1.66666667, 2.        ]), array([0., 0.])], [{'is', 'this'}, {'fun', 'is', 'this'}, {'fun', 'is'}, {'fun', 'indeed', 'is'}, {'fun', 'indeed'}, {'fun', 'indeed', 'yay'}, {'indeed', 'yay'}])\n"
     ]
    }
   ],
   "source": [
    "print(embcomb(embs, y))"
   ]
  },
  {
   "cell_type": "code",
   "execution_count": 89,
   "metadata": {},
   "outputs": [
    {
     "name": "stdout",
     "output_type": "stream",
     "text": [
      "378\n"
     ]
    }
   ],
   "source": [
    "emb_to_wordcomb = dict()\n",
    "for title in texts:\n",
    "    t = '-'.join(title)\n",
    "    X = []\n",
    "    y = []\n",
    "    for word in title:\n",
    "        # get word embeddings for title\n",
    "        if word in embeddings_index:\n",
    "            X.append(embeddings_index[word])\n",
    "            y.append(word)\n",
    "        \n",
    "    # get word combinations of embeddings\n",
    "    res = embcomb(np.array(X), y)\n",
    "    if res:\n",
    "        emb, wordcomb = res\n",
    "        for i, e in enumerate(emb):\n",
    "            e = hashdictkey(e)\n",
    "            emb_to_wordcomb[e] = wordcomb[i]\n",
    "        \n",
    "print(len(emb_to_wordcomb))"
   ]
  },
  {
   "cell_type": "code",
   "execution_count": 90,
   "metadata": {},
   "outputs": [
    {
     "name": "stdout",
     "output_type": "stream",
     "text": [
      "[ 0.442895   -0.10741499  0.1282518  -0.15527499 -0.1082345 ]\n"
     ]
    }
   ],
   "source": [
    "# test eval of emb\n",
    "for emb, words in emb_to_wordcomb.items():\n",
    "    emb = unhashdictkey(emb)\n",
    "    print(emb[0:5])\n",
    "    break"
   ]
  },
  {
   "cell_type": "code",
   "execution_count": 92,
   "metadata": {},
   "outputs": [
    {
     "data": {
      "text/plain": [
       "378"
      ]
     },
     "execution_count": 92,
     "metadata": {},
     "output_type": "execute_result"
    }
   ],
   "source": [
    "# compute similar matrix of emb\n",
    "emb_list = list(emb_to_wordcomb.keys())\n",
    "emb_list = [unhashdictkey(e) for e in emb_list]\n",
    "len(emb_list)"
   ]
  },
  {
   "cell_type": "code",
   "execution_count": 99,
   "metadata": {},
   "outputs": [
    {
     "name": "stdout",
     "output_type": "stream",
     "text": [
      "# comparelist: 378\n",
      "# n:  378\n"
     ]
    },
    {
     "data": {
      "text/plain": [
       "378"
      ]
     },
     "execution_count": 99,
     "metadata": {},
     "output_type": "execute_result"
    }
   ],
   "source": [
    "disMatrix = compileMatrix(emb_list)\n",
    "len(disMatrix)"
   ]
  },
  {
   "cell_type": "code",
   "execution_count": 115,
   "metadata": {},
   "outputs": [],
   "source": [
    "def thresholdMatrix(disMatrix, threshold=0.2, num_threshold=4):\n",
    "    \"\"\"\n",
    "    Given a matrix, method returns which rows indexes have columns less than a certain threshold at least a certain number of times\n",
    "    :param disMatrix: a matrix of distances\n",
    "    :param threshold: the columns in a row to be thresholded\n",
    "    :param num_threshold: the number of columns with a certain threshold\n",
    "    :return: vector of row indexes\n",
    "    \"\"\"\n",
    "\n",
    "    print(\"# disMatrix:\", len(disMatrix))\n",
    "\n",
    "    n = len(disMatrix)\n",
    "    print(\"# n \", n)\n",
    "    \n",
    "    disThresholded = []\n",
    "    for i in range(n - 1):\n",
    "        cnt = 0\n",
    "        for j in range(i + 1, n):\n",
    "\n",
    "            # distance\n",
    "            dis = disMatrix[i][j]\n",
    "            \n",
    "            if dis < threshold:\n",
    "                cnt += 1\n",
    "                \n",
    "        disThresholded.append(cnt)\n",
    "    \n",
    "    idxs = [i for i, cnt in enumerate(disThresholded) if cnt >= num_threshold]\n",
    "    \n",
    "    return idxs"
   ]
  },
  {
   "cell_type": "code",
   "execution_count": 116,
   "metadata": {},
   "outputs": [
    {
     "name": "stdout",
     "output_type": "stream",
     "text": [
      "# disMatrix: 378\n",
      "# n  378\n"
     ]
    },
    {
     "data": {
      "text/plain": [
       "21"
      ]
     },
     "execution_count": 116,
     "metadata": {},
     "output_type": "execute_result"
    }
   ],
   "source": [
    "# for each emb, get number of other emb with less than a certain threshold\n",
    "index_threshold = thresholdMatrix(disMatrix)\n",
    "len(index_threshold)"
   ]
  },
  {
   "cell_type": "code",
   "execution_count": 128,
   "metadata": {},
   "outputs": [
    {
     "name": "stdout",
     "output_type": "stream",
     "text": [
      "21\n",
      "21\n"
     ]
    }
   ],
   "source": [
    "# compile list of embeddings and word combinations based on indexes\n",
    "X = []\n",
    "y = []\n",
    "for i in index_threshold:\n",
    "    emb = emb_list[i]\n",
    "    embhash = hashdictkey(emb)\n",
    "    wordcomb = emb_to_wordcomb[embhash]\n",
    "    wordcomb = '-'.join(list(wordcomb))\n",
    "    X.append(emb)\n",
    "    y.append(wordcomb)\n",
    "\n",
    "print(len(X))\n",
    "print(len(y))"
   ]
  },
  {
   "cell_type": "code",
   "execution_count": 129,
   "metadata": {},
   "outputs": [],
   "source": [
    "X_embedded = TSNE(n_components=2, perplexity=40, verbose=0).fit_transform(X)"
   ]
  },
  {
   "cell_type": "code",
   "execution_count": 130,
   "metadata": {},
   "outputs": [
    {
     "data": {
      "text/plain": [
       "<matplotlib.collections.PathCollection at 0x7f7f100b65c0>"
      ]
     },
     "execution_count": 130,
     "metadata": {},
     "output_type": "execute_result"
    },
    {
     "data": {
      "image/png": "[encoded data removed]",
      "text/plain": [
       "<matplotlib.figure.Figure at 0x7f7f101480f0>"
      ]
     },
     "metadata": {},
     "output_type": "display_data"
    }
   ],
   "source": [
    "plt.scatter(X_embedded[:, 0], X_embedded[:, 1])"
   ]
  },
  {
   "cell_type": "code",
   "execution_count": 131,
   "metadata": {},
   "outputs": [
    {
     "data": {
      "text/html": [
       "<iframe id=\"igraph\" scrolling=\"no\" style=\"border:none;\" seamless=\"seamless\" src=\"https://plot.ly/~philsophie/2.embed\" height=\"525px\" width=\"100%\"></iframe>"
      ],
      "text/plain": [
       "<plotly.tools.PlotlyDisplay object>"
      ]
     },
     "execution_count": 131,
     "metadata": {},
     "output_type": "execute_result"
    }
   ],
   "source": [
    "fig = plotplotly(X_embedded, y, text=True)\n",
    "py.iplot(fig, filename='hover-chart-basic')"
   ]
  },
  {
   "cell_type": "markdown",
   "metadata": {},
   "source": [
    "# Gensim most similar"
   ]
  },
  {
   "cell_type": "code",
   "execution_count": 27,
   "metadata": {},
   "outputs": [],
   "source": [
    "from gensim.models import word2vec"
   ]
  },
  {
   "cell_type": "code",
   "execution_count": null,
   "metadata": {},
   "outputs": [],
   "source": [
    "model = word2vec.Word2Vec(sentences, size=200)\n",
    "sentences = word2vec.Text8Corpus('text8')"
   ]
  },
  {
   "cell_type": "code",
   "execution_count": 30,
   "metadata": {},
   "outputs": [],
   "source": [
    "from gensim.test.utils import datapath, get_tmpfile\n",
    "from gensim.models import KeyedVectors\n",
    "from gensim.scripts.glove2word2vec import glove2word2vec\n",
    "\n",
    "glove_file = datapath(\"/home/sophie/AI-Values/glove.6B/glove.6B.300d.txt\")\n",
    "tmp_file = get_tmpfile(\"/home/sophie/AI-Values/glove.6B/glove.6B.300d_word2vec.txt\")\n",
    "\n",
    "_ = glove2word2vec(glove_file, tmp_file)\n",
    "model = KeyedVectors.load_word2vec_format(tmp_file)"
   ]
  },
  {
   "cell_type": "code",
   "execution_count": 33,
   "metadata": {},
   "outputs": [
    {
     "name": "stdout",
     "output_type": "stream",
     "text": [
      "[('confidentiality', 0.5798313617706299), ('liberties', 0.5725791454315186), ('protections', 0.5712763667106628), ('protection', 0.4882546663284302), ('protect', 0.48595649003982544), ('protecting', 0.48228394985198975), ('freedom', 0.460526704788208), ('disclosure', 0.44946324825286865), ('safety', 0.44887790083885193), ('concerns', 0.446600079536438)]\n"
     ]
    }
   ],
   "source": [
    "print(model.most_similar(['privacy']))"
   ]
  },
  {
   "cell_type": "code",
   "execution_count": 36,
   "metadata": {},
   "outputs": [
    {
     "name": "stdout",
     "output_type": "stream",
     "text": [
      "[('knowledge', 0.4611586332321167), ('information', 0.460480272769928), ('cia', 0.4384228587150574)]\n"
     ]
    }
   ],
   "source": [
    "print(model.most_similar(positive=['artificial', 'intelligence'], topn=3))"
   ]
  },
  {
   "cell_type": "code",
   "execution_count": 37,
   "metadata": {},
   "outputs": [
    {
     "name": "stdout",
     "output_type": "stream",
     "text": [
      "[('synthetic', 0.49244236946105957), ('insemination', 0.47381332516670227), ('man-made', 0.45914873480796814), ('natural', 0.4262947142124176), ('sweeteners', 0.42168718576431274), ('artificially', 0.41367924213409424), ('implanted', 0.4032576084136963), ('manmade', 0.391124427318573), ('neural', 0.389220654964447), ('sweetener', 0.38666772842407227)]\n"
     ]
    }
   ],
   "source": [
    "print(model.most_similar(['artificial']))"
   ]
  },
  {
   "cell_type": "code",
   "execution_count": 40,
   "metadata": {},
   "outputs": [
    {
     "name": "stdout",
     "output_type": "stream",
     "text": [
      "[('knowledge', 0.4611586332321167), ('information', 0.460480272769928), ('cia', 0.4384228587150574), ('methods', 0.4249553978443146), ('techniques', 0.4159538149833679), ('source', 0.41385820508003235), ('sophisticated', 0.4133008122444153), ('secret', 0.41233497858047485), ('using', 0.4104449450969696), ('sources', 0.40984243154525757)]\n"
     ]
    }
   ],
   "source": [
    "print(model.most_similar(['artificial', 'intelligence']))"
   ]
  },
  {
   "cell_type": "code",
   "execution_count": null,
   "metadata": {},
   "outputs": [],
   "source": []
  }
 ],
 "metadata": {
  "kernelspec": {
   "display_name": "Python 3",
   "language": "python",
   "name": "python3"
  },
  "language_info": {
   "codemirror_mode": {
    "name": "ipython",
    "version": 3
   },
   "file_extension": ".py",
   "mimetype": "text/x-python",
   "name": "python",
   "nbconvert_exporter": "python",
   "pygments_lexer": "ipython3",
   "version": "3.6.4"
  }
 },
 "nbformat": 4,
 "nbformat_minor": 2
}
