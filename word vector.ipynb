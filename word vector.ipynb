{
 "cells": [
  {
   "cell_type": "markdown",
   "metadata": {},
   "source": [
    "# Setup"
   ]
  },
  {
   "cell_type": "code",
   "execution_count": 21,
   "metadata": {},
   "outputs": [
    {
     "name": "stderr",
     "output_type": "stream",
     "text": [
      "[nltk_data] Downloading package punkt to\n",
      "[nltk_data]     C:\\Users\\Sophie\\AppData\\Roaming\\nltk_data...\n",
      "[nltk_data]   Package punkt is already up-to-date!\n"
     ]
    }
   ],
   "source": [
    "#from glove import Corpus, Glove\n",
    "\n",
    "import numpy as np\n",
    "\n",
    "#from nltk.stem import PorterStemmer\n",
    "import nltk\n",
    "from nltk.tokenize import word_tokenize\n",
    "nltk.download('punkt')\n",
    "from nltk.stem.snowball import SnowballStemmer\n",
    "from nltk import FreqDist\n",
    "\n",
    "from sklearn.manifold import TSNE\n",
    "\n",
    "import matplotlib.pyplot as plt\n",
    "\n",
    "import plotly\n",
    "import plotly.plotly as py\n",
    "import plotly.graph_objs as go\n",
    "plotly.tools.set_credentials_file(username='philsophie', api_key='BluoHvhy1CNCccyCOycW')\n",
    "\n",
    "import gensim\n",
    "from gensim.parsing.preprocessing import remove_stopwords\n",
    "\n",
    "from scipy import spatial\n",
    "\n",
    "from pprint import pprint"
   ]
  },
  {
   "cell_type": "markdown",
   "metadata": {},
   "source": [
    "# Read files"
   ]
  },
  {
   "cell_type": "code",
   "execution_count": 2,
   "metadata": {},
   "outputs": [
    {
     "name": "stdout",
     "output_type": "stream",
     "text": [
      "Found 400000 word vectors.\n"
     ]
    }
   ],
   "source": [
    "embeddings_index = {}\n",
    "glove_file = './glove.6B/glove.6B.300d.txt'\n",
    "\n",
    "with open(glove_file, \"r\", encoding='utf-8') as f:\n",
    "    for line in f:\n",
    "        values = line.split()\n",
    "        word = values[0]\n",
    "        coefs = np.asarray(values[1:], dtype='float32')\n",
    "        embeddings_index[word] = coefs\n",
    "\n",
    "print('Found %s word vectors.' % len(embeddings_index))"
   ]
  },
  {
   "cell_type": "code",
   "execution_count": 3,
   "metadata": {},
   "outputs": [],
   "source": [
    "#print(embeddings_index['abundance'])"
   ]
  },
  {
   "cell_type": "code",
   "execution_count": 4,
   "metadata": {},
   "outputs": [
    {
     "data": {
      "text/plain": [
       "483"
      ]
     },
     "execution_count": 4,
     "metadata": {},
     "output_type": "execute_result"
    }
   ],
   "source": [
    "with open(\"values.txt\", \"r\", encoding='utf-8') as fin:\n",
    "    values = fin.readlines()\n",
    "\n",
    "values = [x.strip().lower() for x in values] \n",
    "len(values)"
   ]
  },
  {
   "cell_type": "code",
   "execution_count": 5,
   "metadata": {},
   "outputs": [
    {
     "data": {
      "text/plain": [
       "48"
      ]
     },
     "execution_count": 5,
     "metadata": {},
     "output_type": "execute_result"
    }
   ],
   "source": [
    "texts = []\n",
    "with open(\"titles.txt\", \"r\", encoding='utf-8') as fin:\n",
    "    for line in fin:\n",
    "        line = remove_stopwords(line)\n",
    "        texts.append(gensim.utils.simple_preprocess(line))\n",
    "\n",
    "len(texts)"
   ]
  },
  {
   "cell_type": "code",
   "execution_count": 6,
   "metadata": {},
   "outputs": [
    {
     "data": {
      "text/plain": [
       "307"
      ]
     },
     "execution_count": 6,
     "metadata": {},
     "output_type": "execute_result"
    }
   ],
   "source": [
    "texts = []\n",
    "with open(\"./Tweepy/twitter_ethics_text\", \"r\", encoding='utf-8') as fin:\n",
    "    twitter_ethics = eval(fin.read())\n",
    "    for line in twitter_ethics:\n",
    "        line = remove_stopwords(line)\n",
    "        texts.append(gensim.utils.simple_preprocess(line))\n",
    "\n",
    "len(texts)"
   ]
  },
  {
   "cell_type": "code",
   "execution_count": 19,
   "metadata": {},
   "outputs": [
    {
     "name": "stdout",
     "output_type": "stream",
     "text": [
      "[['how', 'th', 'century', 'fox', 'uses', 'ml', 'predict', 'movie', 'audience', 'google', 'cloud', 'blog'], ['facebook', 'clear', 'history', 'tool', 'actually', 'happen', 'it', 'time'], ['why', 'mass', 'data', 'fragmentation', 'matters', 'compare', 'cloud'], ['opinion', 'the', 'two', 'codes', 'your', 'kids', 'need', 'know', 'the', 'new', 'york', 'times'], ['bloomberg', 'are', 'robot'], ['samsung', 'announces', 'new', 'galaxy', 'plus', 'phones', 'business', 'insider'], ['silicon', 'valley', 'oversight', 'democrats', 'probe', 'tech', 'privacy', 'practices', 'the', 'washington', 'post'], ['facebook', 'cryptocurrency', 'whatsapp', 'launch', 'half', 'report', 'business', 'insider'], ['sophie', 'thiebaut', 'linkedin', 'wil', 'je', 'meer', 'weten', 'ubo', 'en', 'digitaal', 'schrijf', 'je', 'voor', 'het', 'webinar', 'van', 'corporify'], ['tolkien', 'official', 'trailer', 'fox', 'searchlight', 'youtube'], ['new', 'flaws', 'allow', 'attackers', 'intercept', 'calls', 'track', 'phone', 'locations', 'techcrunch'], ['priestley', 'time', 'plays', 'wikipedia'], ['israeli', 'moon', 'mission', 'spaceil', 'successfully', 'launches', 'spacex', 'rocket', 'business', 'insider'], ['automating', 'creativity', 'why', 'short', 'talk', 'samim', 'youtube'], ['tesla', 'closing', 'stores', 'means', 'layoffs', 'retail', 'employees', 'business', 'insider'], ['interesting', 'practical', 'amazon', 'purchases', 'business', 'insider'], ['fitbit', 'sees', 'current', 'quarter', 'revenue', 'estimates', 'business', 'insider'], ['google', 'announced', 'end', 'forced', 'arbitration', 'internal', 'matters', 'business', 'insider'], ['purchases', 'wish', 'told', 'apartment', 'business', 'insider'], ['darpa', 'thinks', 'ai', 'could', 'help', 'troops', 'telepathically', 'control', 'machines', 'defense', 'one'], ['chinese', 'company', 'leaves', 'muslim', 'tracking', 'facial', 'recognition', 'database', 'exposed', 'online', 'zdnet'], ['network', 'centric', 'warfare', 'wikipedia'], ['graham', 'spencer', 'programming', 'the', 'internet', 'public', 'lecture', 'youtube'], ['when', 'kids', 'google', 'themselves', 'the', 'atlantic'], ['is', 'drive', 'by', 'sex', 'toy', 'hacking', 'wake', 'up', 'britain', 'internet', 'security', 'chi', 'onwurah', 'opinion', 'the', 'guardian'], ['bob', 'marley', 'could', 'loved', 'lyrics', 'youtube'], ['cpdp', 'profiling', 'microtargeting', 'right', 'reasonable', 'algorithmic', 'inferences', 'youtube'], ['artificial', 'intelligence', 'describing', 'smells', 'ibm', 'research', 'quartz'], ['apple', 'release', 'new', 'ipod', 'business', 'insider'], ['travel', 'essentials', 'reduce', 'stress', 'away', 'suitcase', 'clear', 'membership', 'business', 'insider'], ['audi', 'cars', 'tell', 'you', 'how', 'fast', 'go', 'catch', 'all', 'green', 'lights', 'wired'], ['you', 'give', 'apps', 'sensitive', 'personal', 'information', 'then', 'they', 'tell', 'facebook', 'wsj'], ['what', 'happens', 'younger', 'workers', 'when', 'older', 'workers', 'don', 'retire'], ['paid', 'family', 'leave', 'investment', 'public', 'health', 'handout'], ['sciencedirect'], ['what', 'is', 'public', 'the', 'message', 'medium'], ['medical', 'it', 'must', 'boost', 'its', 'immune', 'system', 'compare', 'cloud'], ['ai', 'won', 'relieve', 'misery', 'facebook', 'human', 'moderators', 'the', 'verge'], ['data', 'new', 'oil', 'adam', 'schlosser', 'world', 'economic', 'forum', 'business', 'insider'], ['machine', 'learning', 'contributing', 'reproducibility', 'crisis', 'science', 'mit', 'technology', 'review'], ['the', 'soothing', 'promise', 'our', 'own', 'artisanal', 'internet', 'wired'], ['hidden', 'patterns', 'inside', 'fruits', 'vegetables', 'youtube'], ['billion', 'video', 'conferencing', 'company', 'zoom', 'aiming', 'april', 'ipo', 'business', 'insider'], ['hbo', 'ceo', 'richard', 'plepler', 'leaving', 'nearly', 'years', 'business', 'insider'], ['how', 'to', 'leverage', 'artificial', 'intelligence', 'to', 'gain', 'business', 'advantage'], ['revealed', 'gambling', 'industry', 'targets', 'poor', 'people', 'ex', 'gamblers', 'society', 'the', 'guardian'], ['america', 'professional', 'elite', 'wealthy', 'successful', 'miserable', 'the', 'new', 'york', 'times'], ['naduac', 'sexual', 'assaults', 'date', 'incident', 'fy'], ['open', 'letter', 'elon', 'musk', 'twitter', 'use', 'business', 'insider'], ['data', 'error', 'exposes', 'patient', 'information', 'newsroom'], ['watch', 'samsung', 'unveil', 'foldable', 'phone', 'galaxy', 'fold', 'business', 'insider'], ['subscribe', 'read', 'financial', 'times'], ['artificial', 'intelligence', 'salaries', 'heading', 'skyward', 'machine', 'learning', 'memoirs', 'medium'], ['introducing', 'world', 'data', 'management', 'platform', 'data', 'science', 'immuta'], ['the', 'secret', 'lives', 'facebook', 'moderators', 'america', 'the', 'verge'], ['women', 'stand', 'against', 'social', 'injustice', 'in', 'ai'], ['mondaq', 'not', 'allowed', 'bad', 'crawler'], ['elaine', 'weiss', 'reviews', 'lab', 'one', 'own', 'patricia', 'fara'], ['google', 'cloud', 'text', 'to', 'speech', 'adds', 'wavenet', 'voices', 'languages', 'dialects', 'venturebeat'], ['this', 'happen', 'natural', 'world', 'insects', 'disappeared', 'world', 'economic', 'forum'], ['human', 'pose', 'detection', 'samim', 'medium'], ['kate', 'starbird', 'wikipedia'], ['doordash', 'amazon', 'flex', 'tipping', 'policies', 'despite', 'instacart', 'outcry', 'the', 'verge'], ['robodebt', 'scheme', 'costs', 'government', 'recovers', 'australia', 'news', 'the', 'guardian'], ['one', 'ring', 'rule', 'all', 'darkness', 'bind'], ['pop', 'culture', 'ai', 'and', 'ethics'], ['the', 'next', 'chinese', 'naval', 'threat', 'robot', 'warships'], ['how', 'avoid', 'tech', 'paralysis', 'compare', 'cloud'], ['citymapper', 'announces', 'subscription', 'service', 'multiple', 'transportation', 'methods', 'techcrunch'], ['for', 'novartis', 'michael', 'cohen', 'affair', 'won', 'stay', 'dead', 'stat'], ['future', 'work', 'katherine', 'bailey', 'medium'], ['where', 'famous', 'tech', 'ceos', 'went', 'college', 'studied', 'list', 'business', 'insider'], ['the', 'russian', 'sleuth', 'who', 'outs', 'moscow', 'elite', 'hackers', 'assassins', 'wired'], ['should', 'robots', 'marketed', 'children', 'teenagers'], ['china', 'uses', 'dna', 'track', 'its', 'people', 'with', 'help', 'american', 'expertise', 'the', 'new', 'york', 'times'], ['the', 'cloud', 'enterprise', 'compatibility', 'edge', 'computing', 'containers', 'serverless', 'cloud', 'tech', 'news'], ['twitch'], ['samsung', 'galaxy', 'specs', 'price', 'release', 'date', 'business', 'insider'], ['samsung', 'galaxy', 'fold', 'massive', 'risk', 'buys', 'business', 'insider'], ['health', 'fitness', 'startups', 'boom', 'business', 'insider'], ['ruyi', 'royal', 'love', 'in', 'the', 'palace', 'official', 'trailer', 'eng', 'sub', 'janine', 'chang', 'wallace', 'huo', 'zhou', 'xun', 'youtube'], ['council', 'europe', 'bryson', 'reviews', 'day', 'aifincoe'], ['could', 'counterfactuals', 'explain', 'algorithmic', 'decisions', 'without', 'opening', 'black', 'box', 'oxford', 'internet', 'institute'], ['israeli', 'prime', 'minister', 'benjamin', 'netanyahu', 'indicted', 'corruption', 'charges'], ['what', 'genetically', 'engineered', 'crispr', 'baby', 'business', 'insider'], ['hound', 'labs', 'startup', 'founded', 'doctor', 'invents', 'marijuana', 'breathalyzer', 'business', 'insider'], ['everything', 'know', 'nintendo', 'switch', 'business', 'insider'], ['justice', 'clarence', 'thomas', 'calls', 'reconsideration', 'landmark', 'libel', 'ruling', 'the', 'new', 'york', 'times'], ['china', 'social', 'credit', 'used', 'ban', 'from', 'traveling', 'fortune'], ['human', 'pose', 'machines', 'self', 'supervised', 'learning'], ['samsung', 'releases', 'video', 'galaxy', 'fold', 'business', 'insider'], ['list', 'denaturalized', 'citizens', 'united', 'states', 'wikipedia'], ['explaining', 'parochialism', 'causal', 'account', 'political', 'polarization', 'changing', 'economic', 'environments'], ['sc', 'fegan', 'face', 'editing', 'generative', 'adversarial', 'network', 'user', 'sketch', 'color'], ['google', 'cloud', 'acquiring', 'alooma', 'help', 'migrate', 'data', 'cloud', 'business', 'insider'], ['forbidden'], ['why', 'scientists', 'silent', 'gene', 'edited', 'babies'], ['google', 'says', 'nest', 'microphone', 'never', 'supposed', 'secret', 'business', 'insider'], ['samsung', 'teases', 'luxury', 'experience', 'buying', 'galaxy', 'fold', 'business', 'insider'], ['samsung', 'galaxy', 'fold', 'release', 'date', 'price', 'specs', 'features', 'business', 'insider'], ['ai', 'transforming', 'the', 'world'], ['popbots', 'hands', 'on', 'steam', 'platform', 'ai', 'generation'], ['hhs', 'docs', 'thousands', 'alleged', 'incidents', 'sexual', 'abuse', 'unaccompanied', 'minors', 'custody', 'cnnpolitics'], ['cloud', 'based', 'ai', 'technology', 'propels', 'cardiovascular', 'medicine', 'forward'], ['quilty', 'weighted', 'blanket', 'review', 'it', 'helped', 'fall', 'asleep', 'minutes', 'business', 'insider'], ['color', 'wealth', 'miami', 'tickets', 'mon', 'feb', 'am', 'eventbrite'], ['ted', 'nelson', 'artist', 'philosopher', 'filmmaker', 'new', 'media', 'pioneer', 'youtube'], ['ai', 'driven', 'learning', 'essential', 'digital', 'transformation'], ['china', 'military', 'rushing', 'use', 'artificial', 'intelligence', 'mit', 'technology', 'review'], ['the', 'loot', 'china', 'old', 'summer', 'palace', 'beijing', 'rankles', 'oxford', 'today'], ['ai', 'weekly', 'trump', 'american', 'ai', 'initiative', 'lacks', 'substance', 'venturebeat'], ['why', 'do', 'so', 'many', 'incompetent', 'men', 'become', 'leaders'], ['lxai', 'icml'], ['google', 'created', 'responsible', 'innovation', 'team', 'check', 'ai', 'ethical', 'quartz'], ['review', 'invisible', 'women', 'exposing', 'data', 'bias', 'world', 'designed', 'men', 'caroline', 'criado', 'perez', 'it', 'man', 'world', 'women', 'don', 'fit', 'saturday', 'review', 'the', 'times'], ['invest', 'ai', 'ethical', 'future', 'techcrunch'], ['the', 'documentary', 'highlighting', 'real', 'green', 'book', 'citylab'], ['sam', 'harris', 'death', 'present', 'moment', 'youtube'], ['forbidden'], ['google', 'expected', 'reveal', 'game', 'streaming', 'service', 'gdc', 'march', 'extremetech'], ['review', 'nokia', 'pureview', 'camera', 'smartphone', 'business', 'insider'], ['five', 'cloud', 'migration', 'issues', 'you', 'shouldn', 'ignore', 'compare', 'cloud'], ['espen', 'remman', 'linkedin'], ['contextual', 'word', 'representations', 'contextual', 'introduction'], ['google', 'maps', 'accidentally', 'exposes', 'taiwanâ', 'secret', 'military', 'sites'], ['bbc', 'future', 'are', 'road', 'civilisation', 'collapse'], ['reasons', 'wireless', 'chargers', 'don', 'work', 'business', 'insider'], ['never', 'seen', 'like', 'before', 'says', 'facebook', 'india', 'fake', 'news', 'buster', 'pulwama', 'attack'], ['intelligence', 'officials', 'warn', 'climate', 'change', 'is', 'worldwide', 'threat', 'insideclimate', 'news'], ['add', 'custom', 'domain', 'your', 'glitch', 'project', 'glitch', 'medium'], ['come', 'on', 'the', 'hives', 'youtube'], ['conservatives', 'hated', 'obama', 'said', 'he', 'meet', 'north', 'korea', 'guess', 'now', 'vox'], ['floating', 'home', 'withstand', 'category', 'hurricanes', 'photos', 'business', 'insider'], ['infosurhoy', 'latest', 'science', 'news', 'reports'], ['autotune', 'dog', 'youtube'], ['how', 'lost', 'legs', 'gained', 'want', 'inspiring', 'the', 'outline'], ['spatial', 'collaborate', 'anywhere', 'ar', 'youtube'], ['new', 'apple', 'watch', 'include', 'sleep', 'tracking', 'feature', 'report', 'business', 'insider'], ['lincoln', 'great', 'depression', 'the', 'atlantic'], ['hsbc', 'erwan', 'rambourg', 'forecasts', 'trouble', 'ahead', 'apple', 'china', 'business', 'insider'], ['when', 'kids', 'google', 'themselves', 'the', 'atlantic'], ['peer', 'to', 'peer', 'blockchain', 'disrupt', 'destroy', 'cloud', 'siliconangle'], ['this', 'algorithm', 'decodes', 'rat', 'squeaks', 'revolutionize', 'animal', 'research', 'youtube'], ['apple', 'dongle', 'problem', 'isn', 'getting', 'better', 'business', 'insider'], ['rocket', 'miner', 'elegy', 'full', 'album', 'youtube'], ['bee', 'instagram', 'cold', 'stormy', 'day', 'billy', 'bishop', 'snow', 'airports'], ['tesla', 'suspends', 'orders', 'ahead', 'elon', 'musk', 'big', 'announcement', 'business', 'insider'], ['chart', 'amazon', 'is', 'the', 'biggest', 'employer', 'tech', 'statista'], ['mom', 'videos', 'youtube', 'kids', 'gave', 'children', 'instructions', 'suicide', 'cnn'], ['salt', 'expert', 'guesses', 'cheap', 'vs', 'expensive', 'salt', 'price', 'points', 'epicurious', 'youtube'], ['cybercriminals', 'year', 'social', 'media', 'siliconangle'], ['why', 'conversational', 'programming', 'should', 'be', 'your', 'next', 'focus', 'area'], ['sciencedirect'], ['the', 'deadly', 'truth', 'world', 'built', 'men', 'stab', 'vests', 'car', 'crashes', 'life', 'style', 'the', 'guardian'], ['usc', 'graduate', 'nannearl', 'lekesia', 'brown', 'combines', 'tech', 'nonprofit', 'leadership', 'blacks', 'in', 'technology'], ['why', 'mass', 'data', 'fragmentation', 'matters', 'compare', 'cloud'], ['google', 'organizers', 'join', 'lawmakers', 'forced', 'arbitration', 'fight', 'the', 'verge'], ['rivers', 'nihil', 'the', 'silent', 'life', 'official', 'video', 'youtube'], ['oscars', 'spike', 'lee', 'pays', 'tribute', 'prince', 'red', 'carpet', 'los', 'angeles', 'times'], ['wealth', 'inequality', 'is', 'way', 'worse', 'than', 'you', 'think', 'and', 'tax', 'havens', 'play', 'big', 'role'], ['microsoft', 'mwc', 'barcelona', 'youtube'], ['amazon', 'plans', 'shipments', 'net', 'zero', 'carbon', 'venturebeat'], ['deliberate', 'data', 'science', 'medium'], ['prince', 'cream', 'live', 'at', 'webster', 'hall', 'april', 'youtube'], ['containers', 'the', 'pros', 'cons', 'know', 'infoworld'], ['data', 'migration', 'data', 'portal'], ['subscribe', 'read', 'financial', 'times'], ['kate', 'devitt', 'instagram', 'line', 'chonkydonut', 'gerbinos', 'qutrealworld', 'gardens', 'point'], ['chart', 'the', 'cities', 'biggest', 'traffic', 'jams', 'statista'], ['lake', 'erie', 'bill', 'rights', 'passes', 'toledo', 'ohio', 'special', 'election', 'vox'], ['ways', 'ai', 'is', 'revolutionising', 'digital', 'marketing', 'compare', 'cloud'], ['unicole', 'pm', 'possible'], ['retail', 'startups', 'shop', 'amazon', 'casper', 'leesa', 'mvmt', 'business', 'insider'], ['what', 'does', 'augmented', 'workforce', 'really', 'look', 'like'], ['cyber', 'security', 'threats', 'companies', 'face', 'digital', 'age'], ['openai', 'built', 'text', 'generator', 'good', 'it', 'considered', 'dangerous', 'release', 'techcrunch'], ['doordash', 'is', 'now', 'worth', 'nearly', 'as', 'much', 'as', 'grubhub', 'after', 'million', 'funding', 'infusion'], ['even', 'iab', 'warned', 'adtech', 'risks', 'eu', 'privacy', 'rules', 'techcrunch'], ['london', 'helsinki', 'collaborate', 'ethical', 'ai', 'data', 'smart', 'cities', 'world'], ['samsung', 'reveals', 'new', 'cheaper', 'galaxy', 'phone', 'business', 'insider'], ['managing', 'cloud', 'migration', 'end', 'user', 'experience'], ['pricing', 'algorithms', 'learn', 'collude', 'raise', 'prices', 'mit', 'technology', 'review'], ['attack', 'attack', 'bro', 'ashley', 'here', 'youtube'], ['bill', 'gates', 'trampoline', 'room', 'million', 'medina', 'mansion', 'business', 'insider'], ['google', 'completed', 'ethical', 'reviews', 'ai', 'projects', 'products', 'deals', 'venturebeat'], ['chart', 'how', 'dangerous', 'are', 'electric', 'scooters', 'statista'], ['apple', 'details', 'layoffs', 'self', 'driving', 'car', 'unit', 'filing', 'business', 'insider'], ['bath', 'trains', 'new', 'generation', 'leaders', 'accountable', 'responsible', 'transparent', 'ai'], ['bill', 'mew', 'mew', 'era', 'consulting', 'february', 'youtube'], ['discovery', 'cameras', 'built', 'airlines', 'seats', 'sparks', 'privacy', 'concerns', 'the', 'verge'], ['prepared', 'for', 'partnership', 'trust', 'distrust', 'international', 'cooperation'], ['council', 'post', 'how', 'to', 'foster', 'positive', 'employee', 'experiences', 'to', 'drive', 'long', 'term', 'digital', 'transformations'], ['data', 'fellows', 'programme', 'the', 'centre', 'humanitarian', 'data'], ['huawei', 'mate', 'specifications', 'release', 'date', 'photos', 'price', 'business', 'insider'], ['blockchain', 'adopting', 'legal', 'frameworks', 'gain', 'competitive', 'advantage'], ['computational', 'power', 'automated', 'use', 'whatsapp', 'elections'], ['orangutan', 'tries', 'to', 'fight', 'bulldozer', 'destroying', 'habitat', 'youtube'], ['confused', 'sound', 'mixing', 'vs', 'sound', 'editing', 'we', 've', 'got', 'you', 'the', 'new', 'york', 'times'], ['council', 'post', 'the', 'top', 'three', 'considerations', 'for', 'designing', 'ethical', 'ai'], ['google', 'admits', 'error', 'hidden', 'microphone', 'bbc', 'news'], ['ai', 'influencers', 'following', 'twitter'], ['how', 'brain', 'keeps', 'its', 'memories', 'right', 'order', 'wired'], ['highlights', 'transcript', 'zuckerberg', 'word', 'ethics', 'talk', 'techcrunch'], ['laid', 'back', 'white', 'horse', 'official', 'music', 'video', 'youtube'], ['at', 'think', 'ibm', 'brings', 'ai', 'multicloud', 'confronts', 'formidable', 'challenges', 'siliconangle'], ['china', 'unveils', 'new', 'generation', 'high', 'speed', 'train', 'youtube'], ['subscribe', 'read', 'financial', 'times'], ['the', 'new', 'geopolitics', 'artificial', 'intelligence', 'world', 'economic', 'forum'], ['chart', 'harvard', 'received', 'billion', 'in', 'donations', 'last', 'year', 'statista'], ['the', 'multi', 'cloud', 'paves', 'way', 'ai', 'ml', 'compare', 'cloud'], ['bloomberg', 'are', 'robot'], ['welcome', 'humanitarian', 'data', 'exchange'], ['virtual', 'afterlives', 'grieving', 'dead', 'twenty', 'first', 'century', 'assistant', 'professor', 'religion', 'candi', 'cann', 'candi', 'cann', 'google', 'books'], ['kate', 'devitt', 'instagram', 'conscious', 'perception', 'neural', 'substrate', 'integration', 'dynamics'], ['walmart', 'new', 'private', 'label', 'tech', 'accessories', 'line', 'motile', 'affordable', 'stylish', 'business', 'insider'], ['surprise', 'ai', 'in'], ['hri', 'workshop', 'attendees', 'survey', 'workshop'], ['facebook', 'wants', 'fan', 'subscriptions', 'vs', 'patreon', 'techcrunch'], ['stanford', 'researchers', 'develop', 'brain', 'controlled', 'typing', 'people', 'paralysis', 'youtube'], ['lockly', 'secure', 'plus', 'smart', 'lock', 'review', 'fingerprint', 'reader', 'boosts', 'home', 'security', 'business', 'insider'], ['the', 'five', 'levels', 'machine', 'learning', 'use', 'cases', 'allie', 'miller', 'medium'], ['tesla', 'closing', 'stores', 'adopting', 'online', 'only', 'model', 'business', 'insider'], ['what', 'to', 'do', 'if', 'you', 've', 'been', 'hacked', 'compare', 'cloud'], ['when', 'surveillance', 'meets', 'incompetence', 'techcrunch'], ['hong', 'kong', 'cum', 'problem', 'the', 'outline'], ['service', 'unavailable'], ['uber', 'freight', 'co', 'founders', 'dealmakers', 'join', 'logistics', 'startup', 'turvo', 'techcrunch'], ['inventions', 'save', 'earth', 'business', 'insider'], ['the', 'folly', 'trolleys', 'ethical', 'challenges', 'autonomous', 'vehicles'], ['creative', 'candidate', 'sourcing', 'strategies', 'ikea', 'spotify', 'deloitte', 'hire', 'google'], ['microsoft', 'vmware', 'partnership', 'won', 'amazon', 'happy', 'business', 'insider'], ['mf', 'doom', 'wikipedia'], ['watch', 'samsung', 'foldable', 'phone', 'galaxy', 'event', 'minutes', 'business', 'insider'], ['opinion', 'the', 'newest', 'jim', 'crow', 'the', 'new', 'york', 'times'], ['the', 'folly', 'trolleys', 'ethical', 'challenges', 'autonomous', 'vehicles'], ['challenge', 'chart', 'js', 'starter', 'app', 'youtube'], ['linux', 'foundation', 'launches', 'elisa', 'open', 'source', 'project', 'building', 'safety', 'critical', 'systems', 'venturebeat'], ['anti', 'vaxx', 'propaganda', 'gone', 'viral', 'facebook', 'pinterest', 'cure', 'technology', 'the', 'guardian'], ['uppy', 'imuppy', 'instagram', 'photos', 'videos'], ['maximizing', 'data', 'intelligence', 'compliant', 'automated', 'policy', 'enforcement'], ['how', 'medium', 'curation', 'distribution', 'paywall', 'systems', 'work', 'writers'], ['tips', 'guaranteed', 'improve', 'your', 'startup', 'success'], ['ariana', 'grande', 'be', 'alright', 'audio', 'youtube'], ['cities', 'digital', 'rights'], ['espen', 'remman', 'linkedin'], ['invest', 'ai', 'ethical', 'future', 'techcrunch'], ['peter', 'thiel', 'founders', 'fund', 'delivering', 'huge', 'returns', 'investors', 'business', 'insider'], ['avoid', 'turbulence', 'shifting', 'data', 'analytics', 'cloud'], ['rising', 'stars', 'atlanta', 'sevenfifty', 'daily'], ['maxwell', 'investors', 'sue', 'block', 'tesla', 'acquisition', 'business', 'insider'], ['hilde', 'lysiak', 'year', 'old', 'journalist', 'films', 'arizona', 'cop', 'threatening', 'the', 'washington', 'post'], ['aid', 'to', 'venezuela', 'just', 'lit', 'stick', 'of', 'dynamite', 'painted', 'to', 'look', 'like', 'carrot'], ['death', 'cafe', 'bame', 'ealing', 'tickets', 'sat', 'apr', 'eventbrite'], ['executives', 'caught', 'florida', 'massage', 'parlor', 'prostitution', 'sting', 'business', 'insider'], ['for', 'black', 'history', 'month', 'remarkable', 'women', 'men', 'we', 'overlooked', 'since', 'the', 'new', 'york', 'times'], ['millennial', 'ai', 'leaders', 'follow'], ['kitbull', 'pixar', 'sparkshorts', 'youtube'], ['google', 'makes', 'billion', 'worth', 'cloud', 'plans', 'telecoms', 'com'], ['lyft', 'uber', 'let', 'drivers', 'stock', 'ipo', 'price', 'business', 'insider'], ['buffett', 'apple', 'stock', 'price', 'if', 'cheaper', 'we', 'buying', 'it', 'business', 'insider'], ['what', 'cloud', 'computing', 'learn', 'good', 'bbq', 'infoworld'], ['co', 'founder', 'ev', 'williams', 'leaving', 'twitter', 'board', 'business', 'insider'], ['towards', 'reconstructing', 'intelligible', 'speech', 'human', 'auditory', 'cortex', 'scientific', 'reports'], ['massdrop', 'vast', 'curved', 'gaming', 'monitor', 'review', 'perfect', 'option', 'business', 'insider'], ['university', 'westminster', 'press'], ['coloring', 'books', 'anil', 'dash', 'medium'], ['check', 'cheetos'], ['unicole', 'unicole', 'live', 'restream', 'io'], ['alerts', 'for', 'city', 'toronto', 'environment', 'canada'], ['アンドロイド観音がお披露目', '京都', '高台寺', 'youtube'], ['unicole', 'pm', 'help', 'edit', 'book'], ['amtrak', 'train', 'stuck', 'hours', 'snow', 'hitting', 'tree', 'business', 'insider'], ['how', 'influencers', 'impact', 'media', 'agenda', 'ai', 'onalytica'], ['govtech', 'twitter', 'pm'], ['too', 'many', 'requests'], ['polymath', 'autodidact', 'maria', 'chong', 'medium'], ['worried', 'about', 'bias', 'ai', 'worry', 'about', 'humans', 'instead', 'center', 'data', 'innovation'], ['new', 'job', 'insight', 'that', 'could', 'unlock', 'higher', 'salary', 'official', 'linkedin', 'blog'], ['photos', 'grand', 'canyon', 'history', 'year', 'anniversary', 'business', 'insider'], ['wedbush', 'dan', 'ives', 'apple', 'acquire', 'hollywood', 'studio', 'lose', 'streaming', 'business', 'insider'], ['florida', 'inmate', 'sues', 'losing', 'access', 'purchased', 'digital', 'music', 'files'], ['blackberry', 'sues', 'twitter', 'patent', 'infringement', 'techcrunch'], ['intel', 'neuro', 'guru', 'slams', 'deep', 'learning', 'it', 'actually', 'learning', 'zdnet'], ['microsoft', 'once', 'hated', 'clippy', 'cartoon', 'badge', 'honor', 'business', 'insider'], ['mueller', 'sentencing', 'memo', 'in', 'manafort', 'case', 'before', 'dc', 'district'], ['too', 'many', 'requests'], ['open', 'uk', 'data', 'access', 'data', 'commons', 'google', 'docs'], ['the', 'big', 'short', 'official', 'trailer', 'brad', 'pitt', 'christian', 'bale', 'drama', 'movie', 'hd', 'youtube'], ['chart', 'steady', 'rise', 'women', 'stem', 'gender', 'gap', 'remains', 'statista'], ['instagram', 'engagement', 'powerhouse', 'axios'], ['cybersecurity', 'study', 'reveals', 'misperceptions', 'leave', 'consumers', 'vulnerable', 'venturebeat'], ['we', 're', 'women', 'science', 'we', 're', 'scientists'], ['how', 'green', 'new', 'deal', 'exploit', 'developing', 'countries'], ['robodebt', 'scheme', 'costs', 'government', 'recovers', 'australia', 'news', 'the', 'guardian'], ['researchers', 'lab', 'grown', 'thc', 'cbd', 'startups', 'blossoming', 'business', 'insider'], ['ai', 'based', 'pose', 'estimation', 'almost', 'real', 'time', 'youtube'], ['nike', 'android', 'app', 'is', 'bricking', 'shoes', 'because', 'that', 'headline', 'we', 'write', 'extremetech'], ['shark', 'attacks', 'threaten', 'google', 'undersea', 'internet', 'cables', 'video'], ['watch', 'samsung', 'unveil', 'galaxy', 'business', 'insider'], ['under', 'pressure', 'google', 'end', 'mandatory', 'arbitration', 'employees', 'axios'], ['apple', 'can', 'compete', 'samsung', 'galaxy', 'fold', 'goldman', 'sachs', 'says', 'business', 'insider'], ['to', 'fix', 'web', 'users'], ['you', 'give', 'apps', 'sensitive', 'personal', 'information', 'then', 'they', 'tell', 'facebook', 'wsj'], ['the', 'cybersecurity', 'your', 'phone', 'soon', 'recognize', 'based', 'walk', 'the', 'washington', 'post'], ['bloomberg', 'are', 'robot'], ['life', 'ep', 'artificial', 'life', 'youtube'], ['ai', 'ethics', 'artificial', 'intelligence', 'robots', 'society']]\n"
     ]
    }
   ],
   "source": [
    "print(texts)"
   ]
  },
  {
   "cell_type": "code",
   "execution_count": 9,
   "metadata": {},
   "outputs": [],
   "source": [
    "remove_words = {\"https\", \"co\", \"business\", \"insider\", \"youtube\", \"the\", \"how\", \"why\", \"what\", \"why\", \"times\", \"medium\", \"techcrunch\", \"in\", \"for\", \"are\", \"is\", \"it\", \"new\", \"york\", \"times\", \"we\", \"venturebeat\", \"to\", \"when\", \"wired\", \"verge\", \"your\", \"than\", \"you\"}"
   ]
  },
  {
   "cell_type": "code",
   "execution_count": 11,
   "metadata": {
    "scrolled": false
   },
   "outputs": [],
   "source": [
    "for text in texts:\n",
    "    for word in text:\n",
    "        if(word in remove_words):\n",
    "            text.remove(word)\n",
    "            #print(word)"
   ]
  },
  {
   "cell_type": "code",
   "execution_count": 12,
   "metadata": {},
   "outputs": [
    {
     "data": {
      "text/plain": [
       "2048"
      ]
     },
     "execution_count": 12,
     "metadata": {},
     "output_type": "execute_result"
    }
   ],
   "source": [
    "f_texts = []\n",
    "for w in texts:\n",
    "    f_texts += w\n",
    "len(f_texts)"
   ]
  },
  {
   "cell_type": "code",
   "execution_count": 13,
   "metadata": {},
   "outputs": [],
   "source": [
    "f_sen = ' '.join(f_texts)"
   ]
  },
  {
   "cell_type": "code",
   "execution_count": 14,
   "metadata": {},
   "outputs": [],
   "source": [
    "f_token = word_tokenize(f_sen)"
   ]
  },
  {
   "cell_type": "code",
   "execution_count": 15,
   "metadata": {},
   "outputs": [
    {
     "name": "stdout",
     "output_type": "stream",
     "text": [
      "[('ai', 27), ('cloud', 22), ('data', 20), ('google', 19), ('samsung', 11), ('galaxy', 11), ('world', 10), ('facebook', 9), ('review', 9), ('compare', 8), ('intelligence', 8), ('apple', 8), ('ethical', 8), ('tech', 7), ('artificial', 7), ('learning', 7), ('news', 7), ('times', 6), ('official', 6), ('amazon', 6), ('guardian', 6), ('technology', 6), ('fold', 6), ('women', 6), ('china', 6), ('price', 6), ('digital', 6), ('chart', 6), ('post', 5), ('phone', 5), ('wikipedia', 5), ('internet', 5), ('release', 5), ('science', 5), ('video', 5), ('twitter', 5), ('instagram', 5), ('statista', 5), ('kids', 4), ('robot', 4), ('linkedin', 4), ('tesla', 4), ('could', 4), ('help', 4), ('human', 4), ('economic', 4), ('date', 4), ('use', 4), ('watch', 4), ('future', 4)]\n"
     ]
    }
   ],
   "source": [
    "fdist = FreqDist(f_token)\n",
    "\n",
    "# print out words only (without counts and weights)\n",
    "print(fdist.most_common(50))"
   ]
  },
  {
   "cell_type": "markdown",
   "metadata": {},
   "source": [
    "# Helper functions"
   ]
  },
  {
   "cell_type": "code",
   "execution_count": 7,
   "metadata": {},
   "outputs": [],
   "source": [
    "def plotplotly(X, y, text=False):\n",
    "    mode = 'markers'\n",
    "    if text:\n",
    "        mode = 'markers+text'\n",
    "        \n",
    "    data = [\n",
    "    go.Scatter(\n",
    "        x=X[:, 0],\n",
    "        y=X[:, 1],\n",
    "        mode=mode,\n",
    "        text=y\n",
    "        )\n",
    "    ]\n",
    "\n",
    "    layout = go.Layout(title='Hover over the points to see the text')\n",
    "\n",
    "    fig = go.Figure(data=data, layout=layout)\n",
    "    return fig"
   ]
  },
  {
   "cell_type": "code",
   "execution_count": 8,
   "metadata": {},
   "outputs": [],
   "source": [
    "def hashdictkey(key):\n",
    "    return str(list(key))"
   ]
  },
  {
   "cell_type": "code",
   "execution_count": 9,
   "metadata": {},
   "outputs": [],
   "source": [
    "def unhashdictkey(key, asnparray=True):\n",
    "    if asnparray:\n",
    "        return np.array(eval(key))\n",
    "    return eval(key)"
   ]
  },
  {
   "cell_type": "code",
   "execution_count": 10,
   "metadata": {},
   "outputs": [],
   "source": [
    "def getDistance(list1, list2):\n",
    "    return spatial.distance.cosine(list1, list2)"
   ]
  },
  {
   "cell_type": "code",
   "execution_count": 11,
   "metadata": {},
   "outputs": [],
   "source": [
    "def compileMatrix(comparelist):\n",
    "    \"\"\"\n",
    "    Given a list of vectors, this method returns a matrix of pairwise comparison calculations of distances\n",
    "    :param tree_list: list of trees in bracket notation\n",
    "    :return: matrix of pairwise comparisons using distance\n",
    "    \"\"\"\n",
    "\n",
    "    print(\"# comparelist:\", len(comparelist))\n",
    "\n",
    "    n = len(comparelist)\n",
    "    print(\"# n: \", n)\n",
    "    disMatrix = [x[:] for x in [[0] * n] * n]\n",
    "    #threshold = 0.32\n",
    "\n",
    "    for i in range(n - 1):\n",
    "        for j in range(i + 1, n):\n",
    "            list1 = comparelist[i]\n",
    "            list2 = comparelist[j]\n",
    "\n",
    "            # thresholds\n",
    "            \n",
    "            # distance\n",
    "            dis = getDistance(list1, list2)\n",
    "\n",
    "            # update matrix\n",
    "            disMatrix[i][j] = disMatrix[j][i] = dis\n",
    "    \n",
    "    return disMatrix"
   ]
  },
  {
   "cell_type": "code",
   "execution_count": 12,
   "metadata": {},
   "outputs": [],
   "source": [
    "def embcomb(embs, words, min_comb=2, max_comb=3):\n",
    "    emb_comb = []\n",
    "    word_comb = []\n",
    "    if len(embs) < min_comb:\n",
    "        return None\n",
    "    for i in range(len(embs)+1):\n",
    "        for j in range(i+2, min(len(embs)+1, i+max_comb+1)):\n",
    "            #print(i, j)\n",
    "            #print(embs[i:j,:])\n",
    "            #print(y[i:j])\n",
    "            ec = np.mean((embs[i:j,:]), axis=0)\n",
    "            emb_comb.append(ec)\n",
    "            word_comb.append(set(y[i:j]))\n",
    "    return [emb_comb, word_comb]"
   ]
  },
  {
   "cell_type": "code",
   "execution_count": 13,
   "metadata": {},
   "outputs": [],
   "source": [
    "def thresholdMatrix(disMatrix, threshold=0.2, num_threshold=4):\n",
    "    \"\"\"\n",
    "    Given a matrix, method returns which rows indexes have columns less than a certain threshold at least a certain number of times\n",
    "    :param disMatrix: a matrix of distances\n",
    "    :param threshold: the columns in a row to be thresholded\n",
    "    :param num_threshold: the number of columns with a certain threshold\n",
    "    :return: vector of row indexes\n",
    "    \"\"\"\n",
    "\n",
    "    print(\"# disMatrix:\", len(disMatrix))\n",
    "\n",
    "    n = len(disMatrix)\n",
    "    print(\"# n \", n)\n",
    "    \n",
    "    disThresholded = []\n",
    "    for i in range(n - 1):\n",
    "        cnt = 0\n",
    "        for j in range(i + 1, n):\n",
    "\n",
    "            # distance\n",
    "            dis = disMatrix[i][j]\n",
    "            \n",
    "            if dis < threshold:\n",
    "                cnt += 1\n",
    "                \n",
    "        disThresholded.append(cnt)\n",
    "    \n",
    "    idxs = [i for i, cnt in enumerate(disThresholded) if cnt >= num_threshold]\n",
    "    \n",
    "    return idxs"
   ]
  },
  {
   "cell_type": "markdown",
   "metadata": {},
   "source": [
    "# Values vec"
   ]
  },
  {
   "cell_type": "code",
   "execution_count": 14,
   "metadata": {},
   "outputs": [
    {
     "data": {
      "text/plain": [
       "455"
      ]
     },
     "execution_count": 14,
     "metadata": {},
     "output_type": "execute_result"
    }
   ],
   "source": [
    "X = np.array([embeddings_index[x] for x in values if x in embeddings_index])\n",
    "y = np.array([x for x in values if x in embeddings_index])\n",
    "len(X)"
   ]
  },
  {
   "cell_type": "code",
   "execution_count": 15,
   "metadata": {},
   "outputs": [],
   "source": [
    "X_embedded = TSNE(n_components=2, perplexity=40, verbose=0).fit_transform(X)"
   ]
  },
  {
   "cell_type": "code",
   "execution_count": 16,
   "metadata": {},
   "outputs": [
    {
     "data": {
      "text/plain": [
       "<matplotlib.collections.PathCollection at 0x1c09f10a470>"
      ]
     },
     "execution_count": 16,
     "metadata": {},
     "output_type": "execute_result"
    },
    {
     "data": {
      "image/png": "[encoded data removed]",
      "text/plain": [
       "<Figure size 432x288 with 1 Axes>"
      ]
     },
     "metadata": {},
     "output_type": "display_data"
    }
   ],
   "source": [
    "plt.scatter(X_embedded[:, 0], X_embedded[:, 1])"
   ]
  },
  {
   "cell_type": "code",
   "execution_count": 17,
   "metadata": {},
   "outputs": [
    {
     "data": {
      "text/html": [
       "<iframe id=\"igraph\" scrolling=\"no\" style=\"border:none;\" seamless=\"seamless\" src=\"https://plot.ly/~philsophie/2.embed\" height=\"525px\" width=\"100%\"></iframe>"
      ],
      "text/plain": [
       "<plotly.tools.PlotlyDisplay object>"
      ]
     },
     "execution_count": 17,
     "metadata": {},
     "output_type": "execute_result"
    }
   ],
   "source": [
    "fig = plotplotly(X_embedded, y, text=True)\n",
    "py.iplot(fig, filename='hover-chart-basic')"
   ]
  },
  {
   "cell_type": "markdown",
   "metadata": {},
   "source": [
    "# From twitter article titles, find terms in title most similar to AI-Value list (threshold), then rank the AI-Value most mentioned with article titles"
   ]
  },
  {
   "cell_type": "code",
   "execution_count": 14,
   "metadata": {},
   "outputs": [
    {
     "data": {
      "text/plain": [
       "455"
      ]
     },
     "execution_count": 14,
     "metadata": {},
     "output_type": "execute_result"
    }
   ],
   "source": [
    "# get value vectors\n",
    "X_value = np.array([embeddings_index[x] for x in values if x in embeddings_index])\n",
    "y_value = np.array([x for x in values if x in embeddings_index])\n",
    "len(X_value)"
   ]
  },
  {
   "cell_type": "code",
   "execution_count": 27,
   "metadata": {},
   "outputs": [
    {
     "name": "stdout",
     "output_type": "stream",
     "text": [
      "48\n"
     ]
    }
   ],
   "source": [
    "# get word vectors for each article title\n",
    "value_mentions = dict()\n",
    "threshold = 0.3\n",
    "ignore_word = set()\n",
    "for title in texts:\n",
    "    min_idxs = []\n",
    "    for word in title:\n",
    "        ignore = True\n",
    "        if word in embeddings_index and word not in ignore_word:\n",
    "            word_vec = embeddings_index[word]\n",
    "            for i, x_v in enumerate(X_value):\n",
    "                # check similarity is less than threshold\n",
    "                dist = getDistance(word_vec, x_v)\n",
    "                if dist < threshold:\n",
    "                    min_idxs.append(i)\n",
    "                    ignore = False\n",
    "            if ignore:\n",
    "                # add word to set\n",
    "                ignore_word.add(word)\n",
    "    \n",
    "    # add values\n",
    "    for min_idx in min_idxs:\n",
    "        value_key = y_value[min_idx]\n",
    "        if value_key not in value_mentions:\n",
    "            value_mentions[value_key] = dict()\n",
    "            value_mentions[value_key][\"count\"] = 0\n",
    "            value_mentions[value_key][\"titles\"] = []\n",
    "        \n",
    "        value_mentions[value_key][\"count\"] += 1\n",
    "        value_mentions[value_key][\"titles\"].append('-'.join(title))\n",
    "        \n",
    "print(len(value_mentions))"
   ]
  },
  {
   "cell_type": "code",
   "execution_count": 28,
   "metadata": {},
   "outputs": [
    {
     "name": "stdout",
     "output_type": "stream",
     "text": [
      "{'care': {'count': 2,\n",
      "          'titles': ['paid-family-leave-investment-public-health-handout',\n",
      "                     'health-fitness-startups-boom-business-insider']},\n",
      " 'challenge': {'count': 4,\n",
      "               'titles': ['at-think-ibm-brings-ai-multicloud-confronts-formidable-challenges-siliconangle',\n",
      "                          'the-folly-trolleys-ethical-challenges-autonomous-vehicles',\n",
      "                          'the-folly-trolleys-ethical-challenges-autonomous-vehicles',\n",
      "                          'challenge-chart-js-starter-app-youtube']},\n",
      " 'change': {'count': 2,\n",
      "            'titles': ['explaining-parochialism-causal-account-political-polarization-changing-economic-environments',\n",
      "                       'intelligence-officials-warn-climate-change-is-worldwide-threat-insideclimate-news']},\n",
      " 'completion': {'count': 1,\n",
      "                'titles': ['google-completed-ethical-reviews-ai-projects-products-deals-venturebeat']},\n",
      " 'control': {'count': 1,\n",
      "             'titles': ['darpa-thinks-ai-could-help-troops-telepathically-control-machines-defense-one']},\n",
      " 'cooperation': {'count': 1,\n",
      "                 'titles': ['prepared-for-partnership-trust-distrust-international-cooperation']},\n",
      " 'creativity': {'count': 1,\n",
      "                'titles': ['automating-creativity-why-short-talk-samim-youtube']},\n",
      " 'discovery': {'count': 1,\n",
      "               'titles': ['discovery-cameras-built-airlines-seats-sparks-privacy-concerns-the-verge']},\n",
      " 'drive': {'count': 2,\n",
      "           'titles': ['is-drive-by-sex-toy-hacking-wake-up-britain-internet-security-chi-onwurah-opinion-the-guardian',\n",
      "                      'council-post-how-to-foster-positive-employee-experiences-to-drive-long-term-digital-transformations']},\n",
      " 'economy': {'count': 4,\n",
      "             'titles': ['data-new-oil-adam-schlosser-world-economic-forum-business-insider',\n",
      "                        'this-happen-natural-world-insects-disappeared-world-economic-forum',\n",
      "                        'explaining-parochialism-causal-account-political-polarization-changing-economic-environments',\n",
      "                        'the-new-geopolitics-artificial-intelligence-world-economic-forum']},\n",
      " 'environment': {'count': 1,\n",
      "                 'titles': ['alerts-for-city-toronto-environment-canada']},\n",
      " 'ethics': {'count': 3,\n",
      "            'titles': ['pop-culture-ai-and-ethics',\n",
      "                       'highlights-transcript-zuckerberg-word-ethics-talk-techcrunch',\n",
      "                       'ai-ethics-artificial-intelligence-robots-society']},\n",
      " 'experience': {'count': 3,\n",
      "                'titles': ['samsung-teases-luxury-experience-buying-galaxy-fold-business-insider',\n",
      "                           'managing-cloud-migration-end-user-experience',\n",
      "                           'council-post-how-to-foster-positive-employee-experiences-to-drive-long-term-digital-transformations']},\n",
      " 'expertise': {'count': 1,\n",
      "               'titles': ['china-uses-dna-track-its-people-with-help-american-expertise-the-new-york-times']},\n",
      " 'family': {'count': 1,\n",
      "            'titles': ['paid-family-leave-investment-public-health-handout']},\n",
      " 'fitness': {'count': 1,\n",
      "             'titles': ['health-fitness-startups-boom-business-insider']},\n",
      " 'focus': {'count': 1,\n",
      "           'titles': ['why-conversational-programming-should-be-your-next-focus-area']},\n",
      " 'giving': {'count': 3,\n",
      "            'titles': ['you-give-apps-sensitive-personal-information-then-they-tell-facebook-wsj',\n",
      "                       'mom-videos-youtube-kids-gave-children-instructions-suicide-cnn',\n",
      "                       'you-give-apps-sensitive-personal-information-then-they-tell-facebook-wsj']},\n",
      " 'health': {'count': 2,\n",
      "            'titles': ['paid-family-leave-investment-public-health-handout',\n",
      "                       'health-fitness-startups-boom-business-insider']},\n",
      " 'honor': {'count': 1,\n",
      "           'titles': ['microsoft-once-hated-clippy-cartoon-badge-honor-business-insider']},\n",
      " 'impact': {'count': 1,\n",
      "            'titles': ['how-influencers-impact-media-agenda-ai-onalytica']},\n",
      " 'industry': {'count': 1,\n",
      "              'titles': ['revealed-gambling-industry-targets-poor-people-ex-gamblers-society-the-guardian']},\n",
      " 'initiative': {'count': 1,\n",
      "                'titles': ['ai-weekly-trump-american-ai-initiative-lacks-substance-venturebeat']},\n",
      " 'innovation': {'count': 2,\n",
      "                'titles': ['google-created-responsible-innovation-team-check-ai-ethical-quartz',\n",
      "                           'worried-about-bias-ai-worry-about-humans-instead-center-data-innovation']},\n",
      " 'intelligence': {'count': 8,\n",
      "                  'titles': ['artificial-intelligence-describing-smells-ibm-research-quartz',\n",
      "                             'how-to-leverage-artificial-intelligence-to-gain-business-advantage',\n",
      "                             'artificial-intelligence-salaries-heading-skyward-machine-learning-memoirs-medium',\n",
      "                             'china-military-rushing-use-artificial-intelligence-mit-technology-review',\n",
      "                             'intelligence-officials-warn-climate-change-is-worldwide-threat-insideclimate-news',\n",
      "                             'the-new-geopolitics-artificial-intelligence-world-economic-forum',\n",
      "                             'maximizing-data-intelligence-compliant-automated-policy-enforcement',\n",
      "                             'ai-ethics-artificial-intelligence-robots-society']},\n",
      " 'investing': {'count': 2,\n",
      "               'titles': ['invest-ai-ethical-future-techcrunch',\n",
      "                          'invest-ai-ethical-future-techcrunch']},\n",
      " 'justice': {'count': 1,\n",
      "             'titles': ['justice-clarence-thomas-calls-reconsideration-landmark-libel-ruling-the-new-york-times']},\n",
      " 'leadership': {'count': 1,\n",
      "                'titles': ['usc-graduate-nannearl-lekesia-brown-combines-tech-nonprofit-leadership-blacks-in-technology']},\n",
      " 'learning': {'count': 7,\n",
      "              'titles': ['machine-learning-contributing-reproducibility-crisis-science-mit-technology-review',\n",
      "                         'artificial-intelligence-salaries-heading-skyward-machine-learning-memoirs-medium',\n",
      "                         'human-pose-machines-self-supervised-learning',\n",
      "                         'ai-driven-learning-essential-digital-transformation',\n",
      "                         'the-five-levels-machine-learning-use-cases-allie-miller-medium',\n",
      "                         'intel-neuro-guru-slams-deep-learning-it-actually-learning-zdnet',\n",
      "                         'intel-neuro-guru-slams-deep-learning-it-actually-learning-zdnet']},\n",
      " 'love': {'count': 1,\n",
      "          'titles': ['ruyi-royal-love-in-the-palace-official-trailer-eng-sub-janine-chang-wallace-huo-zhou-xun-youtube']},\n",
      " 'meaning': {'count': 3,\n",
      "             'titles': ['tesla-closing-stores-means-layoffs-retail-employees-business-insider',\n",
      "                        'contextual-word-representations-contextual-introduction',\n",
      "                        'highlights-transcript-zuckerberg-word-ethics-talk-techcrunch']},\n",
      " 'order': {'count': 1,\n",
      "           'titles': ['how-brain-keeps-its-memories-right-order-wired']},\n",
      " 'partnership': {'count': 2,\n",
      "                 'titles': ['prepared-for-partnership-trust-distrust-international-cooperation',\n",
      "                            'microsoft-vmware-partnership-won-amazon-happy-business-insider']},\n",
      " 'power': {'count': 1,\n",
      "           'titles': ['computational-power-automated-use-whatsapp-elections']},\n",
      " 'privacy': {'count': 3,\n",
      "             'titles': ['silicon-valley-oversight-democrats-probe-tech-privacy-practices-the-washington-post',\n",
      "                        'even-iab-warned-adtech-risks-eu-privacy-rules-techcrunch',\n",
      "                        'discovery-cameras-built-airlines-seats-sparks-privacy-concerns-the-verge']},\n",
      " 'reason': {'count': 15,\n",
      "            'titles': ['why-mass-data-fragmentation-matters-compare-cloud',\n",
      "                       'automating-creativity-why-short-talk-samim-youtube',\n",
      "                       'what-happens-younger-workers-when-older-workers-don-retire',\n",
      "                       'what-is-public-the-message-medium',\n",
      "                       'mondaq-not-allowed-bad-crawler',\n",
      "                       'what-genetically-engineered-crispr-baby-business-insider',\n",
      "                       'why-scientists-silent-gene-edited-babies',\n",
      "                       'why-do-so-many-incompetent-men-become-leaders',\n",
      "                       'reasons-wireless-chargers-don-work-business-insider',\n",
      "                       'why-conversational-programming-should-be-your-next-focus-area',\n",
      "                       'why-mass-data-fragmentation-matters-compare-cloud',\n",
      "                       'what-does-augmented-workforce-really-look-like',\n",
      "                       'what-to-do-if-you-ve-been-hacked-compare-cloud',\n",
      "                       'what-cloud-computing-learn-good-bbq-infoworld',\n",
      "                       'nike-android-app-is-bricking-shoes-because-that-headline-we-write-extremetech']},\n",
      " 'recognition': {'count': 1,\n",
      "                 'titles': ['chinese-company-leaves-muslim-tracking-facial-recognition-database-exposed-online-zdnet']},\n",
      " 'safety': {'count': 1,\n",
      "            'titles': ['linux-foundation-launches-elisa-open-source-project-building-safety-critical-systems-venturebeat']},\n",
      " 'science': {'count': 5,\n",
      "             'titles': ['machine-learning-contributing-reproducibility-crisis-science-mit-technology-review',\n",
      "                        'introducing-world-data-management-platform-data-science-immuta',\n",
      "                        'infosurhoy-latest-science-news-reports',\n",
      "                        'deliberate-data-science-medium',\n",
      "                        'we-re-women-science-we-re-scientists']},\n",
      " 'security': {'count': 3,\n",
      "              'titles': ['is-drive-by-sex-toy-hacking-wake-up-britain-internet-security-chi-onwurah-opinion-the-guardian',\n",
      "                         'cyber-security-threats-companies-face-digital-age',\n",
      "                         'lockly-secure-plus-smart-lock-review-fingerprint-reader-boosts-home-security-business-insider']},\n",
      " 'service': {'count': 3,\n",
      "             'titles': ['citymapper-announces-subscription-service-multiple-transportation-methods-techcrunch',\n",
      "                        'google-expected-reveal-game-streaming-service-gdc-march-extremetech',\n",
      "                        'service-unavailable']},\n",
      " 'speed': {'count': 1,\n",
      "           'titles': ['china-unveils-new-generation-high-speed-train-youtube']},\n",
      " 'success': {'count': 2,\n",
      "             'titles': ['america-professional-elite-wealthy-successful-miserable-the-new-york-times',\n",
      "                        'tips-guaranteed-improve-your-startup-success']},\n",
      " 'surprise': {'count': 1, 'titles': ['surprise-ai-in']},\n",
      " 'trust': {'count': 1,\n",
      "           'titles': ['prepared-for-partnership-trust-distrust-international-cooperation']},\n",
      " 'truth': {'count': 1,\n",
      "           'titles': ['the-deadly-truth-world-built-men-stab-vests-car-crashes-life-style-the-guardian']},\n",
      " 'wealth': {'count': 2,\n",
      "            'titles': ['color-wealth-miami-tickets-mon-feb-am-eventbrite',\n",
      "                       'wealth-inequality-is-way-worse-than-you-think-and-tax-havens-play-big-role']},\n",
      " 'winning': {'count': 3,\n",
      "             'titles': ['ai-won-relieve-misery-facebook-human-moderators-the-verge',\n",
      "                        'for-novartis-michael-cohen-affair-won-stay-dead-stat',\n",
      "                        'microsoft-vmware-partnership-won-amazon-happy-business-insider']}}\n"
     ]
    }
   ],
   "source": [
    "pprint(value_mentions)"
   ]
  },
  {
   "cell_type": "code",
   "execution_count": 29,
   "metadata": {},
   "outputs": [
    {
     "name": "stdout",
     "output_type": "stream",
     "text": [
      "[[1,\n",
      "  'completion',\n",
      "  ['google-completed-ethical-reviews-ai-projects-products-deals-venturebeat']],\n",
      " [1,\n",
      "  'control',\n",
      "  ['darpa-thinks-ai-could-help-troops-telepathically-control-machines-defense-one']],\n",
      " [1,\n",
      "  'cooperation',\n",
      "  ['prepared-for-partnership-trust-distrust-international-cooperation']],\n",
      " [1, 'creativity', ['automating-creativity-why-short-talk-samim-youtube']],\n",
      " [1,\n",
      "  'discovery',\n",
      "  ['discovery-cameras-built-airlines-seats-sparks-privacy-concerns-the-verge']],\n",
      " [1, 'environment', ['alerts-for-city-toronto-environment-canada']],\n",
      " [1,\n",
      "  'expertise',\n",
      "  ['china-uses-dna-track-its-people-with-help-american-expertise-the-new-york-times']],\n",
      " [1, 'family', ['paid-family-leave-investment-public-health-handout']],\n",
      " [1, 'fitness', ['health-fitness-startups-boom-business-insider']],\n",
      " [1,\n",
      "  'focus',\n",
      "  ['why-conversational-programming-should-be-your-next-focus-area']],\n",
      " [1,\n",
      "  'honor',\n",
      "  ['microsoft-once-hated-clippy-cartoon-badge-honor-business-insider']],\n",
      " [1, 'impact', ['how-influencers-impact-media-agenda-ai-onalytica']],\n",
      " [1,\n",
      "  'industry',\n",
      "  ['revealed-gambling-industry-targets-poor-people-ex-gamblers-society-the-guardian']],\n",
      " [1,\n",
      "  'initiative',\n",
      "  ['ai-weekly-trump-american-ai-initiative-lacks-substance-venturebeat']],\n",
      " [1,\n",
      "  'justice',\n",
      "  ['justice-clarence-thomas-calls-reconsideration-landmark-libel-ruling-the-new-york-times']],\n",
      " [1,\n",
      "  'leadership',\n",
      "  ['usc-graduate-nannearl-lekesia-brown-combines-tech-nonprofit-leadership-blacks-in-technology']],\n",
      " [1,\n",
      "  'love',\n",
      "  ['ruyi-royal-love-in-the-palace-official-trailer-eng-sub-janine-chang-wallace-huo-zhou-xun-youtube']],\n",
      " [1, 'order', ['how-brain-keeps-its-memories-right-order-wired']],\n",
      " [1, 'power', ['computational-power-automated-use-whatsapp-elections']],\n",
      " [1,\n",
      "  'recognition',\n",
      "  ['chinese-company-leaves-muslim-tracking-facial-recognition-database-exposed-online-zdnet']],\n",
      " [1,\n",
      "  'safety',\n",
      "  ['linux-foundation-launches-elisa-open-source-project-building-safety-critical-systems-venturebeat']],\n",
      " [1, 'speed', ['china-unveils-new-generation-high-speed-train-youtube']],\n",
      " [1, 'surprise', ['surprise-ai-in']],\n",
      " [1,\n",
      "  'trust',\n",
      "  ['prepared-for-partnership-trust-distrust-international-cooperation']],\n",
      " [1,\n",
      "  'truth',\n",
      "  ['the-deadly-truth-world-built-men-stab-vests-car-crashes-life-style-the-guardian']],\n",
      " [2,\n",
      "  'care',\n",
      "  ['paid-family-leave-investment-public-health-handout',\n",
      "   'health-fitness-startups-boom-business-insider']],\n",
      " [2,\n",
      "  'change',\n",
      "  ['explaining-parochialism-causal-account-political-polarization-changing-economic-environments',\n",
      "   'intelligence-officials-warn-climate-change-is-worldwide-threat-insideclimate-news']],\n",
      " [2,\n",
      "  'drive',\n",
      "  ['is-drive-by-sex-toy-hacking-wake-up-britain-internet-security-chi-onwurah-opinion-the-guardian',\n",
      "   'council-post-how-to-foster-positive-employee-experiences-to-drive-long-term-digital-transformations']],\n",
      " [2,\n",
      "  'health',\n",
      "  ['paid-family-leave-investment-public-health-handout',\n",
      "   'health-fitness-startups-boom-business-insider']],\n",
      " [2,\n",
      "  'innovation',\n",
      "  ['google-created-responsible-innovation-team-check-ai-ethical-quartz',\n",
      "   'worried-about-bias-ai-worry-about-humans-instead-center-data-innovation']],\n",
      " [2,\n",
      "  'investing',\n",
      "  ['invest-ai-ethical-future-techcrunch',\n",
      "   'invest-ai-ethical-future-techcrunch']],\n",
      " [2,\n",
      "  'partnership',\n",
      "  ['prepared-for-partnership-trust-distrust-international-cooperation',\n",
      "   'microsoft-vmware-partnership-won-amazon-happy-business-insider']],\n",
      " [2,\n",
      "  'success',\n",
      "  ['america-professional-elite-wealthy-successful-miserable-the-new-york-times',\n",
      "   'tips-guaranteed-improve-your-startup-success']],\n",
      " [2,\n",
      "  'wealth',\n",
      "  ['color-wealth-miami-tickets-mon-feb-am-eventbrite',\n",
      "   'wealth-inequality-is-way-worse-than-you-think-and-tax-havens-play-big-role']],\n",
      " [3,\n",
      "  'ethics',\n",
      "  ['pop-culture-ai-and-ethics',\n",
      "   'highlights-transcript-zuckerberg-word-ethics-talk-techcrunch',\n",
      "   'ai-ethics-artificial-intelligence-robots-society']],\n",
      " [3,\n",
      "  'experience',\n",
      "  ['samsung-teases-luxury-experience-buying-galaxy-fold-business-insider',\n",
      "   'managing-cloud-migration-end-user-experience',\n",
      "   'council-post-how-to-foster-positive-employee-experiences-to-drive-long-term-digital-transformations']],\n",
      " [3,\n",
      "  'giving',\n",
      "  ['you-give-apps-sensitive-personal-information-then-they-tell-facebook-wsj',\n",
      "   'mom-videos-youtube-kids-gave-children-instructions-suicide-cnn',\n",
      "   'you-give-apps-sensitive-personal-information-then-they-tell-facebook-wsj']],\n",
      " [3,\n",
      "  'meaning',\n",
      "  ['tesla-closing-stores-means-layoffs-retail-employees-business-insider',\n",
      "   'contextual-word-representations-contextual-introduction',\n",
      "   'highlights-transcript-zuckerberg-word-ethics-talk-techcrunch']],\n",
      " [3,\n",
      "  'privacy',\n",
      "  ['silicon-valley-oversight-democrats-probe-tech-privacy-practices-the-washington-post',\n",
      "   'even-iab-warned-adtech-risks-eu-privacy-rules-techcrunch',\n",
      "   'discovery-cameras-built-airlines-seats-sparks-privacy-concerns-the-verge']],\n",
      " [3,\n",
      "  'security',\n",
      "  ['is-drive-by-sex-toy-hacking-wake-up-britain-internet-security-chi-onwurah-opinion-the-guardian',\n",
      "   'cyber-security-threats-companies-face-digital-age',\n",
      "   'lockly-secure-plus-smart-lock-review-fingerprint-reader-boosts-home-security-business-insider']],\n",
      " [3,\n",
      "  'service',\n",
      "  ['citymapper-announces-subscription-service-multiple-transportation-methods-techcrunch',\n",
      "   'google-expected-reveal-game-streaming-service-gdc-march-extremetech',\n",
      "   'service-unavailable']],\n",
      " [3,\n",
      "  'winning',\n",
      "  ['ai-won-relieve-misery-facebook-human-moderators-the-verge',\n",
      "   'for-novartis-michael-cohen-affair-won-stay-dead-stat',\n",
      "   'microsoft-vmware-partnership-won-amazon-happy-business-insider']],\n",
      " [4,\n",
      "  'challenge',\n",
      "  ['at-think-ibm-brings-ai-multicloud-confronts-formidable-challenges-siliconangle',\n",
      "   'the-folly-trolleys-ethical-challenges-autonomous-vehicles',\n",
      "   'the-folly-trolleys-ethical-challenges-autonomous-vehicles',\n",
      "   'challenge-chart-js-starter-app-youtube']],\n",
      " [4,\n",
      "  'economy',\n",
      "  ['data-new-oil-adam-schlosser-world-economic-forum-business-insider',\n",
      "   'this-happen-natural-world-insects-disappeared-world-economic-forum',\n",
      "   'explaining-parochialism-causal-account-political-polarization-changing-economic-environments',\n",
      "   'the-new-geopolitics-artificial-intelligence-world-economic-forum']],\n",
      " [5,\n",
      "  'science',\n",
      "  ['machine-learning-contributing-reproducibility-crisis-science-mit-technology-review',\n",
      "   'introducing-world-data-management-platform-data-science-immuta',\n",
      "   'infosurhoy-latest-science-news-reports',\n",
      "   'deliberate-data-science-medium',\n",
      "   'we-re-women-science-we-re-scientists']],\n",
      " [7,\n",
      "  'learning',\n",
      "  ['machine-learning-contributing-reproducibility-crisis-science-mit-technology-review',\n",
      "   'artificial-intelligence-salaries-heading-skyward-machine-learning-memoirs-medium',\n",
      "   'human-pose-machines-self-supervised-learning',\n",
      "   'ai-driven-learning-essential-digital-transformation',\n",
      "   'the-five-levels-machine-learning-use-cases-allie-miller-medium',\n",
      "   'intel-neuro-guru-slams-deep-learning-it-actually-learning-zdnet',\n",
      "   'intel-neuro-guru-slams-deep-learning-it-actually-learning-zdnet']],\n",
      " [8,\n",
      "  'intelligence',\n",
      "  ['artificial-intelligence-describing-smells-ibm-research-quartz',\n",
      "   'how-to-leverage-artificial-intelligence-to-gain-business-advantage',\n",
      "   'artificial-intelligence-salaries-heading-skyward-machine-learning-memoirs-medium',\n",
      "   'china-military-rushing-use-artificial-intelligence-mit-technology-review',\n",
      "   'intelligence-officials-warn-climate-change-is-worldwide-threat-insideclimate-news',\n",
      "   'the-new-geopolitics-artificial-intelligence-world-economic-forum',\n",
      "   'maximizing-data-intelligence-compliant-automated-policy-enforcement',\n",
      "   'ai-ethics-artificial-intelligence-robots-society']],\n",
      " [15,\n",
      "  'reason',\n",
      "  ['why-mass-data-fragmentation-matters-compare-cloud',\n",
      "   'automating-creativity-why-short-talk-samim-youtube',\n",
      "   'what-happens-younger-workers-when-older-workers-don-retire',\n",
      "   'what-is-public-the-message-medium',\n",
      "   'mondaq-not-allowed-bad-crawler',\n",
      "   'what-genetically-engineered-crispr-baby-business-insider',\n",
      "   'why-scientists-silent-gene-edited-babies',\n",
      "   'why-do-so-many-incompetent-men-become-leaders',\n",
      "   'reasons-wireless-chargers-don-work-business-insider',\n",
      "   'why-conversational-programming-should-be-your-next-focus-area',\n",
      "   'why-mass-data-fragmentation-matters-compare-cloud',\n",
      "   'what-does-augmented-workforce-really-look-like',\n",
      "   'what-to-do-if-you-ve-been-hacked-compare-cloud',\n",
      "   'what-cloud-computing-learn-good-bbq-infoworld',\n",
      "   'nike-android-app-is-bricking-shoes-because-that-headline-we-write-extremetech']]]\n"
     ]
    }
   ],
   "source": [
    "value_mention_arr = []\n",
    "for value, ent in value_mentions.items():\n",
    "    value_mention_arr.append([ent[\"count\"], value, ent[\"titles\"]])\n",
    "    \n",
    "# sort by count\n",
    "pprint(sorted(value_mention_arr))"
   ]
  },
  {
   "cell_type": "markdown",
   "metadata": {},
   "source": [
    "# Title vec (average words)"
   ]
  },
  {
   "cell_type": "code",
   "execution_count": 54,
   "metadata": {},
   "outputs": [
    {
     "name": "stdout",
     "output_type": "stream",
     "text": [
      "304\n",
      "304\n"
     ]
    }
   ],
   "source": [
    "X = []\n",
    "y = []\n",
    "for title in texts:\n",
    "    vec = None\n",
    "    for word in title:\n",
    "        if word in embeddings_index:\n",
    "            if vec is None:\n",
    "                vec = np.array([embeddings_index[word]])\n",
    "            else:\n",
    "                next_vec = embeddings_index[word]\n",
    "                vec = np.concatenate((vec, np.array([next_vec])), axis=0) \n",
    "    \n",
    "    if vec is not None:\n",
    "        vec = vec.mean(axis=0)\n",
    "        X.append(vec)\n",
    "        y.append('-'.join(title))\n",
    "        \n",
    "print(len(y))\n",
    "print(len(X))"
   ]
  },
  {
   "cell_type": "code",
   "execution_count": 32,
   "metadata": {},
   "outputs": [
    {
     "name": "stdout",
     "output_type": "stream",
     "text": [
      "# comparelist: 304\n",
      "# n:  304\n"
     ]
    },
    {
     "data": {
      "text/plain": [
       "304"
      ]
     },
     "execution_count": 32,
     "metadata": {},
     "output_type": "execute_result"
    }
   ],
   "source": [
    "# keep those only a certain threhsold similar to other titles\n",
    "disMatrix = compileMatrix(X)\n",
    "len(disMatrix)"
   ]
  },
  {
   "cell_type": "code",
   "execution_count": 48,
   "metadata": {},
   "outputs": [
    {
     "name": "stdout",
     "output_type": "stream",
     "text": [
      "# disMatrix: 304\n",
      "# n  304\n"
     ]
    },
    {
     "data": {
      "text/plain": [
       "5"
      ]
     },
     "execution_count": 48,
     "metadata": {},
     "output_type": "execute_result"
    }
   ],
   "source": [
    "# for each emb, get number of other emb with less than a certain threshold\n",
    "index_threshold = thresholdMatrix(disMatrix, threshold=0.15, num_threshold=2)\n",
    "len(index_threshold)"
   ]
  },
  {
   "cell_type": "code",
   "execution_count": 49,
   "metadata": {},
   "outputs": [
    {
     "name": "stdout",
     "output_type": "stream",
     "text": [
      "[3, 4, 5, 49, 50]\n"
     ]
    }
   ],
   "source": [
    "print(index_threshold)"
   ]
  },
  {
   "cell_type": "code",
   "execution_count": 55,
   "metadata": {},
   "outputs": [
    {
     "data": {
      "text/plain": [
       "5"
      ]
     },
     "execution_count": 55,
     "metadata": {},
     "output_type": "execute_result"
    }
   ],
   "source": [
    "X_t = [ent for i, ent in enumerate(X) if i in index_threshold]\n",
    "y_t = [ent for i, ent in enumerate(y) if i in index_threshold]\n",
    "len(X_t)"
   ]
  },
  {
   "cell_type": "code",
   "execution_count": 56,
   "metadata": {},
   "outputs": [],
   "source": [
    "X_embedded = TSNE(n_components=2, perplexity=40, verbose=0).fit_transform(X_t)"
   ]
  },
  {
   "cell_type": "code",
   "execution_count": 57,
   "metadata": {},
   "outputs": [
    {
     "data": {
      "text/plain": [
       "<matplotlib.collections.PathCollection at 0x299b650f3c8>"
      ]
     },
     "execution_count": 57,
     "metadata": {},
     "output_type": "execute_result"
    },
    {
     "data": {
      "image/png": "[encoded data removed]",
      "text/plain": [
       "<Figure size 432x288 with 1 Axes>"
      ]
     },
     "metadata": {},
     "output_type": "display_data"
    }
   ],
   "source": [
    "plt.scatter(X_embedded[:, 0], X_embedded[:, 1])"
   ]
  },
  {
   "cell_type": "code",
   "execution_count": 58,
   "metadata": {},
   "outputs": [
    {
     "data": {
      "text/html": [
       "<iframe id=\"igraph\" scrolling=\"no\" style=\"border:none;\" seamless=\"seamless\" src=\"https://plot.ly/~philsophie/2.embed\" height=\"525px\" width=\"100%\"></iframe>"
      ],
      "text/plain": [
       "<plotly.tools.PlotlyDisplay object>"
      ]
     },
     "execution_count": 58,
     "metadata": {},
     "output_type": "execute_result"
    }
   ],
   "source": [
    "fig = plotplotly(X_embedded, y, text=True)\n",
    "py.iplot(fig, filename='hover-chart-basic')"
   ]
  },
  {
   "cell_type": "markdown",
   "metadata": {},
   "source": [
    "# Title vec (title per word)"
   ]
  },
  {
   "cell_type": "code",
   "execution_count": 28,
   "metadata": {},
   "outputs": [
    {
     "name": "stdout",
     "output_type": "stream",
     "text": [
      "1965\n",
      "1965\n"
     ]
    }
   ],
   "source": [
    "X = []\n",
    "y = []\n",
    "for title in texts:\n",
    "    t = '-'.join(title)\n",
    "    vec = None\n",
    "    for word in title:\n",
    "        if word in embeddings_index:\n",
    "            X.append(embeddings_index[word])\n",
    "            y.append(t)\n",
    "    \n",
    "print(len(X))\n",
    "print(len(y))"
   ]
  },
  {
   "cell_type": "code",
   "execution_count": 29,
   "metadata": {},
   "outputs": [],
   "source": [
    "X_embedded = TSNE(n_components=2, perplexity=40, verbose=0).fit_transform(X)"
   ]
  },
  {
   "cell_type": "code",
   "execution_count": 30,
   "metadata": {},
   "outputs": [
    {
     "data": {
      "text/plain": [
       "<matplotlib.collections.PathCollection at 0x22fb00a94e0>"
      ]
     },
     "execution_count": 30,
     "metadata": {},
     "output_type": "execute_result"
    },
    {
     "data": {
      "image/png": "[encoded data removed]",
      "text/plain": [
       "<Figure size 432x288 with 1 Axes>"
      ]
     },
     "metadata": {},
     "output_type": "display_data"
    }
   ],
   "source": [
    "plt.scatter(X_embedded[:, 0], X_embedded[:, 1])"
   ]
  },
  {
   "cell_type": "code",
   "execution_count": 31,
   "metadata": {},
   "outputs": [
    {
     "data": {
      "text/html": [
       "<iframe id=\"igraph\" scrolling=\"no\" style=\"border:none;\" seamless=\"seamless\" src=\"https://plot.ly/~philsophie/2.embed\" height=\"525px\" width=\"100%\"></iframe>"
      ],
      "text/plain": [
       "<plotly.tools.PlotlyDisplay object>"
      ]
     },
     "execution_count": 31,
     "metadata": {},
     "output_type": "execute_result"
    }
   ],
   "source": [
    "fig = plotplotly(X_embedded, y)\n",
    "py.iplot(fig, filename='hover-chart-basic')"
   ]
  },
  {
   "cell_type": "markdown",
   "metadata": {},
   "source": [
    "# Title vec (word combinations)"
   ]
  },
  {
   "cell_type": "code",
   "execution_count": 32,
   "metadata": {},
   "outputs": [],
   "source": [
    "embs = np.array([np.array([1,2]), np.array([3,4]), np.array([5,6]), np.array([0,0]), np.array([0,0])])\n",
    "y = np.array([\"this\", \"is\", \"fun\", \"indeed\", \"yay\"])"
   ]
  },
  {
   "cell_type": "code",
   "execution_count": 33,
   "metadata": {},
   "outputs": [
    {
     "name": "stdout",
     "output_type": "stream",
     "text": [
      "[[1 2]\n",
      " [3 4]\n",
      " [5 6]\n",
      " [0 0]\n",
      " [0 0]]\n"
     ]
    }
   ],
   "source": [
    "print(embs)"
   ]
  },
  {
   "cell_type": "code",
   "execution_count": 34,
   "metadata": {},
   "outputs": [
    {
     "name": "stdout",
     "output_type": "stream",
     "text": [
      "[[array([2., 3.]), array([3., 4.]), array([4., 5.]), array([2.66666667, 3.33333333]), array([2.5, 3. ]), array([1.66666667, 2.        ]), array([0., 0.])], [{'this', 'is'}, {'this', 'is', 'fun'}, {'is', 'fun'}, {'is', 'fun', 'indeed'}, {'fun', 'indeed'}, {'yay', 'fun', 'indeed'}, {'yay', 'indeed'}]]\n"
     ]
    }
   ],
   "source": [
    "print(embcomb(embs, y))"
   ]
  },
  {
   "cell_type": "code",
   "execution_count": 35,
   "metadata": {},
   "outputs": [
    {
     "name": "stdout",
     "output_type": "stream",
     "text": [
      "2879\n"
     ]
    }
   ],
   "source": [
    "emb_to_wordcomb = dict()\n",
    "for title in texts:\n",
    "    t = '-'.join(title)\n",
    "    X = []\n",
    "    y = []\n",
    "    for word in title:\n",
    "        # get word embeddings for title\n",
    "        if word in embeddings_index:\n",
    "            X.append(embeddings_index[word])\n",
    "            y.append(word)\n",
    "        \n",
    "    # get word combinations of embeddings\n",
    "    res = embcomb(np.array(X), y)\n",
    "    if res:\n",
    "        emb, wordcomb = res\n",
    "        for i, e in enumerate(emb):\n",
    "            e = hashdictkey(e)\n",
    "            emb_to_wordcomb[e] = wordcomb[i]\n",
    "        \n",
    "print(len(emb_to_wordcomb))"
   ]
  },
  {
   "cell_type": "code",
   "execution_count": 36,
   "metadata": {},
   "outputs": [
    {
     "name": "stdout",
     "output_type": "stream",
     "text": [
      "[ 0.12866999  0.59932    -0.08786002 -0.51431704  0.96546   ]\n"
     ]
    }
   ],
   "source": [
    "# test eval of emb\n",
    "for emb, words in emb_to_wordcomb.items():\n",
    "    emb = unhashdictkey(emb)\n",
    "    print(emb[0:5])\n",
    "    break"
   ]
  },
  {
   "cell_type": "code",
   "execution_count": 37,
   "metadata": {},
   "outputs": [
    {
     "data": {
      "text/plain": [
       "2879"
      ]
     },
     "execution_count": 37,
     "metadata": {},
     "output_type": "execute_result"
    }
   ],
   "source": [
    "# compute similar matrix of emb\n",
    "emb_list = list(emb_to_wordcomb.keys())\n",
    "emb_list = [unhashdictkey(e) for e in emb_list]\n",
    "len(emb_list)"
   ]
  },
  {
   "cell_type": "code",
   "execution_count": 38,
   "metadata": {},
   "outputs": [
    {
     "name": "stdout",
     "output_type": "stream",
     "text": [
      "# comparelist: 2879\n",
      "# n:  2879\n"
     ]
    },
    {
     "data": {
      "text/plain": [
       "2879"
      ]
     },
     "execution_count": 38,
     "metadata": {},
     "output_type": "execute_result"
    }
   ],
   "source": [
    "disMatrix = compileMatrix(emb_list)\n",
    "len(disMatrix)"
   ]
  },
  {
   "cell_type": "code",
   "execution_count": 39,
   "metadata": {},
   "outputs": [
    {
     "name": "stdout",
     "output_type": "stream",
     "text": [
      "# disMatrix: 2879\n",
      "# n  2879\n"
     ]
    },
    {
     "data": {
      "text/plain": [
       "1257"
      ]
     },
     "execution_count": 39,
     "metadata": {},
     "output_type": "execute_result"
    }
   ],
   "source": [
    "# for each emb, get number of other emb with less than a certain threshold\n",
    "index_threshold = thresholdMatrix(disMatrix)\n",
    "len(index_threshold)"
   ]
  },
  {
   "cell_type": "code",
   "execution_count": 40,
   "metadata": {},
   "outputs": [
    {
     "name": "stdout",
     "output_type": "stream",
     "text": [
      "1257\n",
      "1257\n"
     ]
    }
   ],
   "source": [
    "# compile list of embeddings and word combinations based on indexes\n",
    "X = []\n",
    "y = []\n",
    "for i in index_threshold:\n",
    "    emb = emb_list[i]\n",
    "    embhash = hashdictkey(emb)\n",
    "    wordcomb = emb_to_wordcomb[embhash]\n",
    "    wordcomb = '-'.join(list(wordcomb))\n",
    "    X.append(emb)\n",
    "    y.append(wordcomb)\n",
    "\n",
    "print(len(X))\n",
    "print(len(y))"
   ]
  },
  {
   "cell_type": "code",
   "execution_count": 41,
   "metadata": {},
   "outputs": [],
   "source": [
    "X_embedded = TSNE(n_components=2, perplexity=40, verbose=0).fit_transform(X)"
   ]
  },
  {
   "cell_type": "code",
   "execution_count": 42,
   "metadata": {},
   "outputs": [
    {
     "data": {
      "text/plain": [
       "<matplotlib.collections.PathCollection at 0x22fb0207278>"
      ]
     },
     "execution_count": 42,
     "metadata": {},
     "output_type": "execute_result"
    },
    {
     "data": {
      "image/png": "[encoded data removed]",
      "text/plain": [
       "<Figure size 432x288 with 1 Axes>"
      ]
     },
     "metadata": {},
     "output_type": "display_data"
    }
   ],
   "source": [
    "plt.scatter(X_embedded[:, 0], X_embedded[:, 1])"
   ]
  },
  {
   "cell_type": "code",
   "execution_count": 43,
   "metadata": {},
   "outputs": [
    {
     "data": {
      "text/html": [
       "<iframe id=\"igraph\" scrolling=\"no\" style=\"border:none;\" seamless=\"seamless\" src=\"https://plot.ly/~philsophie/2.embed\" height=\"525px\" width=\"100%\"></iframe>"
      ],
      "text/plain": [
       "<plotly.tools.PlotlyDisplay object>"
      ]
     },
     "execution_count": 43,
     "metadata": {},
     "output_type": "execute_result"
    }
   ],
   "source": [
    "fig = plotplotly(X_embedded, y, text=False)\n",
    "py.iplot(fig, filename='hover-chart-basic')"
   ]
  },
  {
   "cell_type": "markdown",
   "metadata": {},
   "source": [
    "# Twitter Title vec (word comb)"
   ]
  },
  {
   "cell_type": "code",
   "execution_count": 44,
   "metadata": {},
   "outputs": [],
   "source": [
    "all_texts = texts"
   ]
  },
  {
   "cell_type": "code",
   "execution_count": 45,
   "metadata": {},
   "outputs": [
    {
     "data": {
      "text/plain": [
       "307"
      ]
     },
     "execution_count": 45,
     "metadata": {},
     "output_type": "execute_result"
    }
   ],
   "source": [
    "texts = all_texts\n",
    "len(texts)"
   ]
  },
  {
   "cell_type": "code",
   "execution_count": 46,
   "metadata": {},
   "outputs": [],
   "source": [
    "import random\n",
    "\n",
    "random.shuffle(texts)\n",
    "texts = texts[:500]"
   ]
  },
  {
   "cell_type": "code",
   "execution_count": 47,
   "metadata": {},
   "outputs": [
    {
     "name": "stdout",
     "output_type": "stream",
     "text": [
      "1554\n"
     ]
    }
   ],
   "source": [
    "emb_to_wordcomb = dict()\n",
    "for title in texts:\n",
    "    t = '-'.join(title)\n",
    "    X = []\n",
    "    y = []\n",
    "    for word in title:\n",
    "        # get word embeddings for title\n",
    "        if word in embeddings_index:\n",
    "            X.append(embeddings_index[word])\n",
    "            y.append(word)\n",
    "        \n",
    "    # get word combinations of embeddings\n",
    "    res = embcomb(np.array(X), y, max_comb=2)\n",
    "    if res:\n",
    "        emb, wordcomb = res\n",
    "        for i, e in enumerate(emb):\n",
    "            e = hashdictkey(e)\n",
    "            emb_to_wordcomb[e] = wordcomb[i]\n",
    "        \n",
    "print(len(emb_to_wordcomb))"
   ]
  },
  {
   "cell_type": "code",
   "execution_count": 48,
   "metadata": {},
   "outputs": [
    {
     "data": {
      "text/plain": [
       "1554"
      ]
     },
     "execution_count": 48,
     "metadata": {},
     "output_type": "execute_result"
    }
   ],
   "source": [
    "# compute similar matrix of emb\n",
    "emb_list = list(emb_to_wordcomb.keys())\n",
    "emb_list = [unhashdictkey(e) for e in emb_list]\n",
    "len(emb_list)"
   ]
  },
  {
   "cell_type": "code",
   "execution_count": 49,
   "metadata": {},
   "outputs": [
    {
     "name": "stdout",
     "output_type": "stream",
     "text": [
      "# comparelist: 1554\n",
      "# n:  1554\n"
     ]
    },
    {
     "data": {
      "text/plain": [
       "1554"
      ]
     },
     "execution_count": 49,
     "metadata": {},
     "output_type": "execute_result"
    }
   ],
   "source": [
    "disMatrix = compileMatrix(emb_list)\n",
    "len(disMatrix)"
   ]
  },
  {
   "cell_type": "code",
   "execution_count": 50,
   "metadata": {},
   "outputs": [
    {
     "name": "stdout",
     "output_type": "stream",
     "text": [
      "# disMatrix: 1554\n",
      "# n  1554\n"
     ]
    },
    {
     "data": {
      "text/plain": [
       "1017"
      ]
     },
     "execution_count": 50,
     "metadata": {},
     "output_type": "execute_result"
    }
   ],
   "source": [
    "# for each emb, get number of other emb with less than a certain threshold\n",
    "index_threshold = thresholdMatrix(disMatrix, threshold=0.3, num_threshold=3)\n",
    "len(index_threshold)"
   ]
  },
  {
   "cell_type": "code",
   "execution_count": 51,
   "metadata": {},
   "outputs": [
    {
     "name": "stdout",
     "output_type": "stream",
     "text": [
      "1017\n",
      "1017\n"
     ]
    }
   ],
   "source": [
    "# compile list of embeddings and word combinations based on indexes\n",
    "X = []\n",
    "y = []\n",
    "for i in index_threshold:\n",
    "    emb = emb_list[i]\n",
    "    embhash = hashdictkey(emb)\n",
    "    wordcomb = emb_to_wordcomb[embhash]\n",
    "    wordcomb = '-'.join(list(wordcomb))\n",
    "    X.append(emb)\n",
    "    y.append(wordcomb)\n",
    "\n",
    "print(len(X))\n",
    "print(len(y))"
   ]
  },
  {
   "cell_type": "code",
   "execution_count": 52,
   "metadata": {},
   "outputs": [],
   "source": [
    "X_embedded = TSNE(n_components=2, perplexity=40, verbose=0).fit_transform(X)"
   ]
  },
  {
   "cell_type": "code",
   "execution_count": 53,
   "metadata": {},
   "outputs": [
    {
     "data": {
      "text/plain": [
       "<matplotlib.collections.PathCollection at 0x22fafdddef0>"
      ]
     },
     "execution_count": 53,
     "metadata": {},
     "output_type": "execute_result"
    },
    {
     "data": {
      "image/png": "[encoded data removed]",
      "text/plain": [
       "<Figure size 432x288 with 1 Axes>"
      ]
     },
     "metadata": {},
     "output_type": "display_data"
    }
   ],
   "source": [
    "plt.scatter(X_embedded[:, 0], X_embedded[:, 1])"
   ]
  },
  {
   "cell_type": "code",
   "execution_count": 54,
   "metadata": {},
   "outputs": [
    {
     "data": {
      "text/html": [
       "<iframe id=\"igraph\" scrolling=\"no\" style=\"border:none;\" seamless=\"seamless\" src=\"https://plot.ly/~philsophie/2.embed\" height=\"525px\" width=\"100%\"></iframe>"
      ],
      "text/plain": [
       "<plotly.tools.PlotlyDisplay object>"
      ]
     },
     "execution_count": 54,
     "metadata": {},
     "output_type": "execute_result"
    }
   ],
   "source": [
    "fig = plotplotly(X_embedded, y, text=False)\n",
    "py.iplot(fig, filename='hover-chart-basic')"
   ]
  },
  {
   "cell_type": "markdown",
   "metadata": {},
   "source": [
    "# Gensim most similar"
   ]
  },
  {
   "cell_type": "code",
   "execution_count": 1,
   "metadata": {},
   "outputs": [],
   "source": [
    "from gensim.models import word2vec"
   ]
  },
  {
   "cell_type": "code",
   "execution_count": null,
   "metadata": {},
   "outputs": [],
   "source": [
    "model = word2vec.Word2Vec(sentences, size=200)\n",
    "sentences = word2vec.Text8Corpus('text8')"
   ]
  },
  {
   "cell_type": "code",
   "execution_count": 2,
   "metadata": {},
   "outputs": [],
   "source": [
    "from gensim.test.utils import datapath, get_tmpfile\n",
    "from gensim.models import KeyedVectors\n",
    "from gensim.scripts.glove2word2vec import glove2word2vec\n",
    "\n",
    "glove_file = datapath(\"/home/sophie/AI-Values/glove.6B/glove.6B.300d.txt\")\n",
    "tmp_file = get_tmpfile(\"/home/sophie/AI-Values/glove.6B/glove.6B.300d_word2vec.txt\")\n",
    "\n",
    "_ = glove2word2vec(glove_file, tmp_file)\n",
    "model = KeyedVectors.load_word2vec_format(tmp_file)"
   ]
  },
  {
   "cell_type": "code",
   "execution_count": 33,
   "metadata": {},
   "outputs": [
    {
     "name": "stdout",
     "output_type": "stream",
     "text": [
      "[('confidentiality', 0.5798313617706299), ('liberties', 0.5725791454315186), ('protections', 0.5712763667106628), ('protection', 0.4882546663284302), ('protect', 0.48595649003982544), ('protecting', 0.48228394985198975), ('freedom', 0.460526704788208), ('disclosure', 0.44946324825286865), ('safety', 0.44887790083885193), ('concerns', 0.446600079536438)]\n"
     ]
    }
   ],
   "source": [
    "print(model.most_similar(['privacy']))"
   ]
  },
  {
   "cell_type": "code",
   "execution_count": 36,
   "metadata": {},
   "outputs": [
    {
     "name": "stdout",
     "output_type": "stream",
     "text": [
      "[('knowledge', 0.4611586332321167), ('information', 0.460480272769928), ('cia', 0.4384228587150574)]\n"
     ]
    }
   ],
   "source": [
    "print(model.most_similar(positive=['artificial', 'intelligence'], topn=3))"
   ]
  },
  {
   "cell_type": "code",
   "execution_count": 37,
   "metadata": {},
   "outputs": [
    {
     "name": "stdout",
     "output_type": "stream",
     "text": [
      "[('synthetic', 0.49244236946105957), ('insemination', 0.47381332516670227), ('man-made', 0.45914873480796814), ('natural', 0.4262947142124176), ('sweeteners', 0.42168718576431274), ('artificially', 0.41367924213409424), ('implanted', 0.4032576084136963), ('manmade', 0.391124427318573), ('neural', 0.389220654964447), ('sweetener', 0.38666772842407227)]\n"
     ]
    }
   ],
   "source": [
    "print(model.most_similar(['artificial']))"
   ]
  },
  {
   "cell_type": "code",
   "execution_count": 40,
   "metadata": {},
   "outputs": [
    {
     "name": "stdout",
     "output_type": "stream",
     "text": [
      "[('knowledge', 0.4611586332321167), ('information', 0.460480272769928), ('cia', 0.4384228587150574), ('methods', 0.4249553978443146), ('techniques', 0.4159538149833679), ('source', 0.41385820508003235), ('sophisticated', 0.4133008122444153), ('secret', 0.41233497858047485), ('using', 0.4104449450969696), ('sources', 0.40984243154525757)]\n"
     ]
    }
   ],
   "source": [
    "print(model.most_similar(['artificial', 'intelligence']))"
   ]
  },
  {
   "cell_type": "code",
   "execution_count": 3,
   "metadata": {},
   "outputs": [
    {
     "name": "stdout",
     "output_type": "stream",
     "text": [
      "[('genealogical', 0.6413923501968384), ('genealogies', 0.5469214916229248), ('heraldry', 0.4801636338233948), ('ancestry', 0.4725051522254944), ('lineage', 0.46874651312828064), ('ancestor', 0.43732717633247375), ('genealogist', 0.4359472990036011), ('folklore', 0.4338807463645935), ('origins', 0.4301758408546448), ('tracing', 0.41735735535621643)]\n"
     ]
    }
   ],
   "source": [
    "print(model.most_similar(['genealogy']))"
   ]
  },
  {
   "cell_type": "code",
   "execution_count": 4,
   "metadata": {},
   "outputs": [
    {
     "name": "stdout",
     "output_type": "stream",
     "text": [
      "[('lineages', 0.7093613743782043), ('ancestor', 0.6329213380813599), ('descendant', 0.5997883081436157), ('ancestors', 0.5798022150993347), ('ancestry', 0.5490856170654297), ('descendants', 0.5397379398345947), ('origins', 0.5340539813041687), ('bloodline', 0.5154845714569092), ('patrilineal', 0.5056362152099609), ('paternal', 0.5042784214019775)]\n"
     ]
    }
   ],
   "source": [
    "print(model.most_similar(['lineage']))"
   ]
  },
  {
   "cell_type": "code",
   "execution_count": 5,
   "metadata": {},
   "outputs": [
    {
     "name": "stdout",
     "output_type": "stream",
     "text": [
      "[('resolving', 0.7659726142883301), ('resolved', 0.7524896264076233), ('solve', 0.7424017786979675), ('dispute', 0.6705842018127441), ('disputes', 0.6687039136886597), ('impasse', 0.6213710308074951), ('determination', 0.5951550006866455), ('differences', 0.5740435123443604), ('issue', 0.5731443166732788), ('disagreements', 0.5667888522148132)]\n"
     ]
    }
   ],
   "source": [
    "print(model.most_similar(['resolve']))"
   ]
  },
  {
   "cell_type": "code",
   "execution_count": 6,
   "metadata": {},
   "outputs": [
    {
     "name": "stdout",
     "output_type": "stream",
     "text": [
      "[('conflicts', 0.8084380626678467), ('war', 0.6729421615600586), ('strife', 0.6499618291854858), ('bloodshed', 0.6260631084442139), ('violence', 0.6070914268493652), ('hostilities', 0.6060783267021179), ('tensions', 0.5968263745307922), ('confrontation', 0.5958433151245117), ('crisis', 0.594000518321991), ('fighting', 0.5881012678146362)]\n"
     ]
    }
   ],
   "source": [
    "print(model.most_similar(['conflict']))"
   ]
  },
  {
   "cell_type": "code",
   "execution_count": null,
   "metadata": {},
   "outputs": [],
   "source": []
  }
 ],
 "metadata": {
  "kernelspec": {
   "display_name": "Python 3",
   "language": "python",
   "name": "python3"
  },
  "language_info": {
   "codemirror_mode": {
    "name": "ipython",
    "version": 3
   },
   "file_extension": ".py",
   "mimetype": "text/x-python",
   "name": "python",
   "nbconvert_exporter": "python",
   "pygments_lexer": "ipython3",
   "version": "3.6.5"
  }
 },
 "nbformat": 4,
 "nbformat_minor": 2
}
