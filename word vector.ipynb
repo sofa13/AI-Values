{
 "cells": [
  {
   "cell_type": "markdown",
   "metadata": {},
   "source": [
    "# Setup"
   ]
  },
  {
   "cell_type": "code",
   "execution_count": 15,
   "metadata": {},
   "outputs": [
    {
     "name": "stdout",
     "output_type": "stream",
     "text": [
      "[nltk_data] Downloading package punkt to /home/sophie/nltk_data...\n",
      "[nltk_data]   Unzipping tokenizers/punkt.zip.\n"
     ]
    }
   ],
   "source": [
    "#from glove import Corpus, Glove\n",
    "\n",
    "import numpy as np\n",
    "\n",
    "#from nltk.stem import PorterStemmer\n",
    "from nltk.tokenize import word_tokenize\n",
    "nltk.download('punkt')\n",
    "from nltk.stem.snowball import SnowballStemmer\n",
    "from nltk import FreqDist\n",
    "\n",
    "from sklearn.manifold import TSNE\n",
    "\n",
    "import matplotlib.pyplot as plt\n",
    "\n",
    "import plotly\n",
    "import plotly.plotly as py\n",
    "import plotly.graph_objs as go\n",
    "plotly.tools.set_credentials_file(username='philsophie', api_key='BluoHvhy1CNCccyCOycW')\n",
    "\n",
    "import gensim\n",
    "from gensim.parsing.preprocessing import remove_stopwords\n",
    "\n",
    "from scipy import spatial"
   ]
  },
  {
   "cell_type": "markdown",
   "metadata": {},
   "source": [
    "# Read files"
   ]
  },
  {
   "cell_type": "code",
   "execution_count": 104,
   "metadata": {},
   "outputs": [
    {
     "name": "stdout",
     "output_type": "stream",
     "text": [
      "Found 400000 word vectors.\n"
     ]
    }
   ],
   "source": [
    "embeddings_index = {}\n",
    "glove_file = './glove.6B/glove.6B.300d.txt'\n",
    "\n",
    "with open(glove_file, \"r\", encoding='utf-8') as f:\n",
    "    for line in f:\n",
    "        values = line.split()\n",
    "        word = values[0]\n",
    "        coefs = np.asarray(values[1:], dtype='float32')\n",
    "        embeddings_index[word] = coefs\n",
    "\n",
    "print('Found %s word vectors.' % len(embeddings_index))"
   ]
  },
  {
   "cell_type": "code",
   "execution_count": 3,
   "metadata": {},
   "outputs": [],
   "source": [
    "#print(embeddings_index['abundance'])"
   ]
  },
  {
   "cell_type": "code",
   "execution_count": 17,
   "metadata": {},
   "outputs": [
    {
     "data": {
      "text/plain": [
       "483"
      ]
     },
     "execution_count": 17,
     "metadata": {},
     "output_type": "execute_result"
    }
   ],
   "source": [
    "with open(\"values.txt\", \"r\", encoding='utf-8') as fin:\n",
    "    values = fin.readlines()\n",
    "\n",
    "values = [x.strip().lower() for x in values] \n",
    "len(values)"
   ]
  },
  {
   "cell_type": "code",
   "execution_count": 6,
   "metadata": {},
   "outputs": [
    {
     "data": {
      "text/plain": [
       "48"
      ]
     },
     "execution_count": 6,
     "metadata": {},
     "output_type": "execute_result"
    }
   ],
   "source": [
    "texts = []\n",
    "with open(\"titles.txt\", \"r\", encoding='utf-8') as fin:\n",
    "    for line in fin:\n",
    "        line = remove_stopwords(line)\n",
    "        texts.append(gensim.utils.simple_preprocess(line))\n",
    "\n",
    "len(texts)"
   ]
  },
  {
   "cell_type": "code",
   "execution_count": 66,
   "metadata": {},
   "outputs": [
    {
     "data": {
      "text/plain": [
       "307"
      ]
     },
     "execution_count": 66,
     "metadata": {},
     "output_type": "execute_result"
    }
   ],
   "source": [
    "texts = []\n",
    "with open(\"./Tweepy/twitter_ethics_text\", \"r\", encoding='utf-8') as fin:\n",
    "    twitter_ethics = eval(fin.read())\n",
    "    for line in twitter_ethics:\n",
    "        line = remove_stopwords(line)\n",
    "        texts.append(gensim.utils.simple_preprocess(line))\n",
    "\n",
    "len(texts)"
   ]
  },
  {
   "cell_type": "code",
   "execution_count": 113,
   "metadata": {},
   "outputs": [],
   "source": [
    "remove_words = {\"https\", \"co\", \"business\", \"insider\", \"youtube\", \"the\", \"how\", \"why\", \"what\", \"why\", \"times\", \"medium\", \"techcrunch\", \"in\", \"for\", \"are\", \"is\", \"it\", \"new\", \"york\", \"times\", \"we\", \"venturebeat\", \"to\", \"when\", \"wired\", \"verge\", \"your\", \"than\", \"you\"}"
   ]
  },
  {
   "cell_type": "code",
   "execution_count": 114,
   "metadata": {
    "scrolled": false
   },
   "outputs": [
    {
     "name": "stdout",
     "output_type": "stream",
     "text": [
      "you\n",
      "you\n",
      "you\n",
      "than\n",
      "you\n",
      "you\n",
      "you\n"
     ]
    }
   ],
   "source": [
    "for text in texts:\n",
    "    for word in text:\n",
    "        if(word in remove_words):\n",
    "            text.remove(word)\n",
    "            print(word)"
   ]
  },
  {
   "cell_type": "code",
   "execution_count": 115,
   "metadata": {},
   "outputs": [
    {
     "data": {
      "text/plain": [
       "2042"
      ]
     },
     "execution_count": 115,
     "metadata": {},
     "output_type": "execute_result"
    }
   ],
   "source": [
    "f_texts = []\n",
    "for w in texts:\n",
    "    f_texts += w\n",
    "len(f_texts)"
   ]
  },
  {
   "cell_type": "code",
   "execution_count": 116,
   "metadata": {},
   "outputs": [],
   "source": [
    "f_sen = ' '.join(f_texts)"
   ]
  },
  {
   "cell_type": "code",
   "execution_count": 117,
   "metadata": {},
   "outputs": [],
   "source": [
    "f_token = word_tokenize(f_sen)"
   ]
  },
  {
   "cell_type": "code",
   "execution_count": 118,
   "metadata": {},
   "outputs": [
    {
     "name": "stdout",
     "output_type": "stream",
     "text": [
      "[('ai', 27), ('cloud', 22), ('data', 20), ('google', 19), ('samsung', 11), ('galaxy', 11), ('world', 10), ('facebook', 9), ('review', 9), ('compare', 8), ('intelligence', 8), ('apple', 8), ('ethical', 8), ('tech', 7), ('artificial', 7), ('learning', 7), ('news', 7), ('official', 6), ('amazon', 6), ('guardian', 6), ('technology', 6), ('fold', 6), ('women', 6), ('china', 6), ('price', 6), ('digital', 6), ('chart', 6), ('post', 5), ('phone', 5), ('wikipedia', 5), ('internet', 5), ('release', 5), ('science', 5), ('video', 5), ('twitter', 5), ('instagram', 5), ('statista', 5), ('kids', 4), ('robot', 4), ('linkedin', 4), ('tesla', 4), ('could', 4), ('help', 4), ('human', 4), ('economic', 4), ('date', 4), ('use', 4), ('watch', 4), ('future', 4), ('men', 4)]\n"
     ]
    }
   ],
   "source": [
    "fdist = FreqDist(f_token)\n",
    "\n",
    "# print out words only (without counts and weights)\n",
    "print(fdist.most_common(50))"
   ]
  },
  {
   "cell_type": "markdown",
   "metadata": {},
   "source": [
    "# Helper functions"
   ]
  },
  {
   "cell_type": "code",
   "execution_count": 94,
   "metadata": {},
   "outputs": [],
   "source": [
    "def plotplotly(X, y, text=False):\n",
    "    mode = 'markers'\n",
    "    if text:\n",
    "        mode = 'markers+text'\n",
    "        \n",
    "    data = [\n",
    "    go.Scatter(\n",
    "        x=X[:, 0],\n",
    "        y=X[:, 1],\n",
    "        mode=mode,\n",
    "        text=y\n",
    "        )\n",
    "    ]\n",
    "\n",
    "    layout = go.Layout(title='Hover over the points to see the text')\n",
    "\n",
    "    fig = go.Figure(data=data, layout=layout)\n",
    "    return fig"
   ]
  },
  {
   "cell_type": "code",
   "execution_count": 95,
   "metadata": {},
   "outputs": [],
   "source": [
    "def hashdictkey(key):\n",
    "    return str(list(key))"
   ]
  },
  {
   "cell_type": "code",
   "execution_count": 96,
   "metadata": {},
   "outputs": [],
   "source": [
    "def unhashdictkey(key, asnparray=True):\n",
    "    if asnparray:\n",
    "        return np.array(eval(key))\n",
    "    return eval(key)"
   ]
  },
  {
   "cell_type": "code",
   "execution_count": 97,
   "metadata": {},
   "outputs": [],
   "source": [
    "def getDistance(list1, list2):\n",
    "    return spatial.distance.cosine(list1, list2)"
   ]
  },
  {
   "cell_type": "code",
   "execution_count": 98,
   "metadata": {},
   "outputs": [],
   "source": [
    "def compileMatrix(comparelist):\n",
    "    \"\"\"\n",
    "    Given a list of vectors, this method returns a matrix of pairwise comparison calculations of distances\n",
    "    :param tree_list: list of trees in bracket notation\n",
    "    :return: matrix of pairwise comparisons using distance\n",
    "    \"\"\"\n",
    "\n",
    "    print(\"# comparelist:\", len(comparelist))\n",
    "\n",
    "    n = len(comparelist)\n",
    "    print(\"# n: \", n)\n",
    "    disMatrix = [x[:] for x in [[0] * n] * n]\n",
    "    #threshold = 0.32\n",
    "\n",
    "    for i in range(n - 1):\n",
    "        for j in range(i + 1, n):\n",
    "            list1 = comparelist[i]\n",
    "            list2 = comparelist[j]\n",
    "\n",
    "            # thresholds\n",
    "            \n",
    "            # distance\n",
    "            dis = getDistance(list1, list2)\n",
    "\n",
    "            # update matrix\n",
    "            disMatrix[i][j] = disMatrix[j][i] = dis\n",
    "    \n",
    "    return disMatrix"
   ]
  },
  {
   "cell_type": "code",
   "execution_count": 99,
   "metadata": {},
   "outputs": [],
   "source": [
    "def embcomb(embs, words, min_comb=2, max_comb=3):\n",
    "    emb_comb = []\n",
    "    word_comb = []\n",
    "    if len(embs) < min_comb:\n",
    "        return None\n",
    "    for i in range(len(embs)+1):\n",
    "        for j in range(i+2, min(len(embs)+1, i+max_comb+1)):\n",
    "            #print(i, j)\n",
    "            #print(embs[i:j,:])\n",
    "            #print(y[i:j])\n",
    "            ec = np.mean((embs[i:j,:]), axis=0)\n",
    "            emb_comb.append(ec)\n",
    "            word_comb.append(set(y[i:j]))\n",
    "    return [emb_comb, word_comb]"
   ]
  },
  {
   "cell_type": "code",
   "execution_count": 100,
   "metadata": {},
   "outputs": [],
   "source": [
    "def thresholdMatrix(disMatrix, threshold=0.2, num_threshold=4):\n",
    "    \"\"\"\n",
    "    Given a matrix, method returns which rows indexes have columns less than a certain threshold at least a certain number of times\n",
    "    :param disMatrix: a matrix of distances\n",
    "    :param threshold: the columns in a row to be thresholded\n",
    "    :param num_threshold: the number of columns with a certain threshold\n",
    "    :return: vector of row indexes\n",
    "    \"\"\"\n",
    "\n",
    "    print(\"# disMatrix:\", len(disMatrix))\n",
    "\n",
    "    n = len(disMatrix)\n",
    "    print(\"# n \", n)\n",
    "    \n",
    "    disThresholded = []\n",
    "    for i in range(n - 1):\n",
    "        cnt = 0\n",
    "        for j in range(i + 1, n):\n",
    "\n",
    "            # distance\n",
    "            dis = disMatrix[i][j]\n",
    "            \n",
    "            if dis < threshold:\n",
    "                cnt += 1\n",
    "                \n",
    "        disThresholded.append(cnt)\n",
    "    \n",
    "    idxs = [i for i, cnt in enumerate(disThresholded) if cnt >= num_threshold]\n",
    "    \n",
    "    return idxs"
   ]
  },
  {
   "cell_type": "markdown",
   "metadata": {},
   "source": [
    "# Values vec"
   ]
  },
  {
   "cell_type": "code",
   "execution_count": 18,
   "metadata": {},
   "outputs": [
    {
     "data": {
      "text/plain": [
       "455"
      ]
     },
     "execution_count": 18,
     "metadata": {},
     "output_type": "execute_result"
    }
   ],
   "source": [
    "X = np.array([embeddings_index[x] for x in values if x in embeddings_index])\n",
    "y = np.array([x for x in values if x in embeddings_index])\n",
    "len(X)"
   ]
  },
  {
   "cell_type": "code",
   "execution_count": 19,
   "metadata": {},
   "outputs": [],
   "source": [
    "X_embedded = TSNE(n_components=2, perplexity=40, verbose=0).fit_transform(X)"
   ]
  },
  {
   "cell_type": "code",
   "execution_count": 20,
   "metadata": {},
   "outputs": [
    {
     "data": {
      "text/plain": [
       "<matplotlib.collections.PathCollection at 0x7f7f14e89128>"
      ]
     },
     "execution_count": 20,
     "metadata": {},
     "output_type": "execute_result"
    },
    {
     "data": {
      "image/png": "[encoded data removed]",
      "text/plain": [
       "<matplotlib.figure.Figure at 0x7f7f14f3ba90>"
      ]
     },
     "metadata": {},
     "output_type": "display_data"
    }
   ],
   "source": [
    "plt.scatter(X_embedded[:, 0], X_embedded[:, 1])"
   ]
  },
  {
   "cell_type": "code",
   "execution_count": 26,
   "metadata": {},
   "outputs": [
    {
     "data": {
      "text/html": [
       "<iframe id=\"igraph\" scrolling=\"no\" style=\"border:none;\" seamless=\"seamless\" src=\"https://plot.ly/~philsophie/2.embed\" height=\"525px\" width=\"100%\"></iframe>"
      ],
      "text/plain": [
       "<plotly.tools.PlotlyDisplay object>"
      ]
     },
     "execution_count": 26,
     "metadata": {},
     "output_type": "execute_result"
    }
   ],
   "source": [
    "fig = plotplotly(X_embedded, y, text=True)\n",
    "py.iplot(fig, filename='hover-chart-basic')"
   ]
  },
  {
   "cell_type": "markdown",
   "metadata": {},
   "source": [
    "# Title vec (average words)"
   ]
  },
  {
   "cell_type": "code",
   "execution_count": 29,
   "metadata": {},
   "outputs": [
    {
     "name": "stdout",
     "output_type": "stream",
     "text": [
      "48\n",
      "48\n"
     ]
    }
   ],
   "source": [
    "X = []\n",
    "for title in texts:\n",
    "    vec = None\n",
    "    for word in title:\n",
    "        if word in embeddings_index:\n",
    "            if vec is None:\n",
    "                vec = np.array([embeddings_index[word]])\n",
    "            else:\n",
    "                next_vec = embeddings_index[word]\n",
    "                vec = np.concatenate((vec, np.array([next_vec])), axis=0) \n",
    "    \n",
    "    vec = vec.mean(axis=0)\n",
    "    X.append(vec)\n",
    "    \n",
    "y = ['-'.join(t) for t in texts]\n",
    "print(len(y))\n",
    "print(len(X))"
   ]
  },
  {
   "cell_type": "code",
   "execution_count": 30,
   "metadata": {},
   "outputs": [],
   "source": [
    "X_embedded = TSNE(n_components=2, perplexity=40, verbose=0).fit_transform(X)"
   ]
  },
  {
   "cell_type": "code",
   "execution_count": 31,
   "metadata": {},
   "outputs": [
    {
     "data": {
      "text/plain": [
       "<matplotlib.collections.PathCollection at 0x7f7f0f49f438>"
      ]
     },
     "execution_count": 31,
     "metadata": {},
     "output_type": "execute_result"
    },
    {
     "data": {
      "image/png": "[encoded data removed]",
      "text/plain": [
       "<matplotlib.figure.Figure at 0x7f7f0f4e9588>"
      ]
     },
     "metadata": {},
     "output_type": "display_data"
    }
   ],
   "source": [
    "plt.scatter(X_embedded[:, 0], X_embedded[:, 1])"
   ]
  },
  {
   "cell_type": "code",
   "execution_count": 32,
   "metadata": {},
   "outputs": [
    {
     "data": {
      "text/html": [
       "<iframe id=\"igraph\" scrolling=\"no\" style=\"border:none;\" seamless=\"seamless\" src=\"https://plot.ly/~philsophie/2.embed\" height=\"525px\" width=\"100%\"></iframe>"
      ],
      "text/plain": [
       "<plotly.tools.PlotlyDisplay object>"
      ]
     },
     "execution_count": 32,
     "metadata": {},
     "output_type": "execute_result"
    }
   ],
   "source": [
    "fig = plotplotly(X_embedded, y, text=True)\n",
    "py.iplot(fig, filename='hover-chart-basic')"
   ]
  },
  {
   "cell_type": "markdown",
   "metadata": {},
   "source": [
    "# Title vec (title per word)"
   ]
  },
  {
   "cell_type": "code",
   "execution_count": 33,
   "metadata": {},
   "outputs": [
    {
     "name": "stdout",
     "output_type": "stream",
     "text": [
      "276\n",
      "276\n"
     ]
    }
   ],
   "source": [
    "X = []\n",
    "y = []\n",
    "for title in texts:\n",
    "    t = '-'.join(title)\n",
    "    vec = None\n",
    "    for word in title:\n",
    "        if word in embeddings_index:\n",
    "            X.append(embeddings_index[word])\n",
    "            y.append(t)\n",
    "    \n",
    "print(len(X))\n",
    "print(len(y))"
   ]
  },
  {
   "cell_type": "code",
   "execution_count": 34,
   "metadata": {},
   "outputs": [],
   "source": [
    "X_embedded = TSNE(n_components=2, perplexity=40, verbose=0).fit_transform(X)"
   ]
  },
  {
   "cell_type": "code",
   "execution_count": 35,
   "metadata": {},
   "outputs": [
    {
     "data": {
      "text/plain": [
       "<matplotlib.collections.PathCollection at 0x7f7f0f2cada0>"
      ]
     },
     "execution_count": 35,
     "metadata": {},
     "output_type": "execute_result"
    },
    {
     "data": {
      "image/png": "[encoded data removed]",
      "text/plain": [
       "<matplotlib.figure.Figure at 0x7f7f0f29c6d8>"
      ]
     },
     "metadata": {},
     "output_type": "display_data"
    }
   ],
   "source": [
    "plt.scatter(X_embedded[:, 0], X_embedded[:, 1])"
   ]
  },
  {
   "cell_type": "code",
   "execution_count": 36,
   "metadata": {},
   "outputs": [
    {
     "data": {
      "text/html": [
       "<iframe id=\"igraph\" scrolling=\"no\" style=\"border:none;\" seamless=\"seamless\" src=\"https://plot.ly/~philsophie/2.embed\" height=\"525px\" width=\"100%\"></iframe>"
      ],
      "text/plain": [
       "<plotly.tools.PlotlyDisplay object>"
      ]
     },
     "execution_count": 36,
     "metadata": {},
     "output_type": "execute_result"
    }
   ],
   "source": [
    "fig = plotplotly(X_embedded, y)\n",
    "py.iplot(fig, filename='hover-chart-basic')"
   ]
  },
  {
   "cell_type": "markdown",
   "metadata": {},
   "source": [
    "# Title vec (word combinations)"
   ]
  },
  {
   "cell_type": "code",
   "execution_count": 54,
   "metadata": {},
   "outputs": [],
   "source": [
    "embs = np.array([np.array([1,2]), np.array([3,4]), np.array([5,6]), np.array([0,0]), np.array([0,0])])\n",
    "y = np.array([\"this\", \"is\", \"fun\", \"indeed\", \"yay\"])"
   ]
  },
  {
   "cell_type": "code",
   "execution_count": 55,
   "metadata": {},
   "outputs": [
    {
     "name": "stdout",
     "output_type": "stream",
     "text": [
      "[[1 2]\n",
      " [3 4]\n",
      " [5 6]\n",
      " [0 0]\n",
      " [0 0]]\n"
     ]
    }
   ],
   "source": [
    "print(embs)"
   ]
  },
  {
   "cell_type": "code",
   "execution_count": 56,
   "metadata": {},
   "outputs": [
    {
     "name": "stdout",
     "output_type": "stream",
     "text": [
      "0 2\n",
      "[[1 2]\n",
      " [3 4]]\n",
      "['this' 'is']\n",
      "0 3\n",
      "[[1 2]\n",
      " [3 4]\n",
      " [5 6]]\n",
      "['this' 'is' 'fun']\n",
      "1 3\n",
      "[[3 4]\n",
      " [5 6]]\n",
      "['is' 'fun']\n",
      "1 4\n",
      "[[3 4]\n",
      " [5 6]\n",
      " [0 0]]\n",
      "['is' 'fun' 'indeed']\n",
      "2 4\n",
      "[[5 6]\n",
      " [0 0]]\n",
      "['fun' 'indeed']\n",
      "2 5\n",
      "[[5 6]\n",
      " [0 0]\n",
      " [0 0]]\n",
      "['fun' 'indeed' 'yay']\n",
      "3 5\n",
      "[[0 0]\n",
      " [0 0]]\n",
      "['indeed' 'yay']\n",
      "([array([2., 3.]), array([3., 4.]), array([4., 5.]), array([2.66666667, 3.33333333]), array([2.5, 3. ]), array([1.66666667, 2.        ]), array([0., 0.])], [{'is', 'this'}, {'fun', 'is', 'this'}, {'fun', 'is'}, {'fun', 'indeed', 'is'}, {'fun', 'indeed'}, {'fun', 'indeed', 'yay'}, {'indeed', 'yay'}])\n"
     ]
    }
   ],
   "source": [
    "print(embcomb(embs, y))"
   ]
  },
  {
   "cell_type": "code",
   "execution_count": 12,
   "metadata": {},
   "outputs": [
    {
     "name": "stdout",
     "output_type": "stream",
     "text": [
      "3464\n"
     ]
    }
   ],
   "source": [
    "emb_to_wordcomb = dict()\n",
    "for title in texts:\n",
    "    t = '-'.join(title)\n",
    "    X = []\n",
    "    y = []\n",
    "    for word in title:\n",
    "        # get word embeddings for title\n",
    "        if word in embeddings_index:\n",
    "            X.append(embeddings_index[word])\n",
    "            y.append(word)\n",
    "        \n",
    "    # get word combinations of embeddings\n",
    "    res = embcomb(np.array(X), y)\n",
    "    if res:\n",
    "        emb, wordcomb = res\n",
    "        for i, e in enumerate(emb):\n",
    "            e = hashdictkey(e)\n",
    "            emb_to_wordcomb[e] = wordcomb[i]\n",
    "        \n",
    "print(len(emb_to_wordcomb))"
   ]
  },
  {
   "cell_type": "code",
   "execution_count": 90,
   "metadata": {},
   "outputs": [
    {
     "name": "stdout",
     "output_type": "stream",
     "text": [
      "[ 0.442895   -0.10741499  0.1282518  -0.15527499 -0.1082345 ]\n"
     ]
    }
   ],
   "source": [
    "# test eval of emb\n",
    "for emb, words in emb_to_wordcomb.items():\n",
    "    emb = unhashdictkey(emb)\n",
    "    print(emb[0:5])\n",
    "    break"
   ]
  },
  {
   "cell_type": "code",
   "execution_count": 13,
   "metadata": {},
   "outputs": [
    {
     "data": {
      "text/plain": [
       "3464"
      ]
     },
     "execution_count": 13,
     "metadata": {},
     "output_type": "execute_result"
    }
   ],
   "source": [
    "# compute similar matrix of emb\n",
    "emb_list = list(emb_to_wordcomb.keys())\n",
    "emb_list = [unhashdictkey(e) for e in emb_list]\n",
    "len(emb_list)"
   ]
  },
  {
   "cell_type": "code",
   "execution_count": 14,
   "metadata": {},
   "outputs": [
    {
     "name": "stdout",
     "output_type": "stream",
     "text": [
      "# comparelist: 3464\n",
      "# n:  3464\n"
     ]
    },
    {
     "data": {
      "text/plain": [
       "3464"
      ]
     },
     "execution_count": 14,
     "metadata": {},
     "output_type": "execute_result"
    }
   ],
   "source": [
    "disMatrix = compileMatrix(emb_list)\n",
    "len(disMatrix)"
   ]
  },
  {
   "cell_type": "code",
   "execution_count": 15,
   "metadata": {},
   "outputs": [
    {
     "name": "stdout",
     "output_type": "stream",
     "text": [
      "# disMatrix: 3464\n",
      "# n  3464\n"
     ]
    },
    {
     "data": {
      "text/plain": [
       "237"
      ]
     },
     "execution_count": 15,
     "metadata": {},
     "output_type": "execute_result"
    }
   ],
   "source": [
    "# for each emb, get number of other emb with less than a certain threshold\n",
    "index_threshold = thresholdMatrix(disMatrix)\n",
    "len(index_threshold)"
   ]
  },
  {
   "cell_type": "code",
   "execution_count": 16,
   "metadata": {},
   "outputs": [
    {
     "name": "stdout",
     "output_type": "stream",
     "text": [
      "237\n",
      "237\n"
     ]
    }
   ],
   "source": [
    "# compile list of embeddings and word combinations based on indexes\n",
    "X = []\n",
    "y = []\n",
    "for i in index_threshold:\n",
    "    emb = emb_list[i]\n",
    "    embhash = hashdictkey(emb)\n",
    "    wordcomb = emb_to_wordcomb[embhash]\n",
    "    wordcomb = '-'.join(list(wordcomb))\n",
    "    X.append(emb)\n",
    "    y.append(wordcomb)\n",
    "\n",
    "print(len(X))\n",
    "print(len(y))"
   ]
  },
  {
   "cell_type": "code",
   "execution_count": 17,
   "metadata": {},
   "outputs": [],
   "source": [
    "X_embedded = TSNE(n_components=2, perplexity=40, verbose=0).fit_transform(X)"
   ]
  },
  {
   "cell_type": "code",
   "execution_count": 18,
   "metadata": {},
   "outputs": [
    {
     "data": {
      "text/plain": [
       "<matplotlib.collections.PathCollection at 0x7fecb5b0d7b8>"
      ]
     },
     "execution_count": 18,
     "metadata": {},
     "output_type": "execute_result"
    },
    {
     "data": {
      "image/png": "[encoded data removed]",
      "text/plain": [
       "<matplotlib.figure.Figure at 0x7fecc2f02d30>"
      ]
     },
     "metadata": {},
     "output_type": "display_data"
    }
   ],
   "source": [
    "plt.scatter(X_embedded[:, 0], X_embedded[:, 1])"
   ]
  },
  {
   "cell_type": "code",
   "execution_count": 20,
   "metadata": {},
   "outputs": [
    {
     "data": {
      "text/html": [
       "<iframe id=\"igraph\" scrolling=\"no\" style=\"border:none;\" seamless=\"seamless\" src=\"https://plot.ly/~philsophie/2.embed\" height=\"525px\" width=\"100%\"></iframe>"
      ],
      "text/plain": [
       "<plotly.tools.PlotlyDisplay object>"
      ]
     },
     "execution_count": 20,
     "metadata": {},
     "output_type": "execute_result"
    }
   ],
   "source": [
    "fig = plotplotly(X_embedded, y, text=False)\n",
    "py.iplot(fig, filename='hover-chart-basic')"
   ]
  },
  {
   "cell_type": "markdown",
   "metadata": {},
   "source": [
    "# Twitter Title vec (word comb)"
   ]
  },
  {
   "cell_type": "code",
   "execution_count": 101,
   "metadata": {},
   "outputs": [],
   "source": [
    "all_texts = texts"
   ]
  },
  {
   "cell_type": "code",
   "execution_count": 102,
   "metadata": {},
   "outputs": [
    {
     "data": {
      "text/plain": [
       "307"
      ]
     },
     "execution_count": 102,
     "metadata": {},
     "output_type": "execute_result"
    }
   ],
   "source": [
    "texts = all_texts\n",
    "len(texts)"
   ]
  },
  {
   "cell_type": "code",
   "execution_count": 30,
   "metadata": {},
   "outputs": [],
   "source": [
    "import random\n",
    "\n",
    "random.shuffle(texts)\n",
    "texts = texts[:500]"
   ]
  },
  {
   "cell_type": "code",
   "execution_count": 105,
   "metadata": {},
   "outputs": [
    {
     "name": "stdout",
     "output_type": "stream",
     "text": [
      "1554\n"
     ]
    }
   ],
   "source": [
    "emb_to_wordcomb = dict()\n",
    "for title in texts:\n",
    "    t = '-'.join(title)\n",
    "    X = []\n",
    "    y = []\n",
    "    for word in title:\n",
    "        # get word embeddings for title\n",
    "        if word in embeddings_index:\n",
    "            X.append(embeddings_index[word])\n",
    "            y.append(word)\n",
    "        \n",
    "    # get word combinations of embeddings\n",
    "    res = embcomb(np.array(X), y, max_comb=2)\n",
    "    if res:\n",
    "        emb, wordcomb = res\n",
    "        for i, e in enumerate(emb):\n",
    "            e = hashdictkey(e)\n",
    "            emb_to_wordcomb[e] = wordcomb[i]\n",
    "        \n",
    "print(len(emb_to_wordcomb))"
   ]
  },
  {
   "cell_type": "code",
   "execution_count": 106,
   "metadata": {},
   "outputs": [
    {
     "data": {
      "text/plain": [
       "1554"
      ]
     },
     "execution_count": 106,
     "metadata": {},
     "output_type": "execute_result"
    }
   ],
   "source": [
    "# compute similar matrix of emb\n",
    "emb_list = list(emb_to_wordcomb.keys())\n",
    "emb_list = [unhashdictkey(e) for e in emb_list]\n",
    "len(emb_list)"
   ]
  },
  {
   "cell_type": "code",
   "execution_count": 107,
   "metadata": {},
   "outputs": [
    {
     "name": "stdout",
     "output_type": "stream",
     "text": [
      "# comparelist: 1554\n",
      "# n:  1554\n"
     ]
    },
    {
     "data": {
      "text/plain": [
       "1554"
      ]
     },
     "execution_count": 107,
     "metadata": {},
     "output_type": "execute_result"
    }
   ],
   "source": [
    "disMatrix = compileMatrix(emb_list)\n",
    "len(disMatrix)"
   ]
  },
  {
   "cell_type": "code",
   "execution_count": 123,
   "metadata": {},
   "outputs": [
    {
     "name": "stdout",
     "output_type": "stream",
     "text": [
      "# disMatrix: 1554\n",
      "# n  1554\n"
     ]
    },
    {
     "data": {
      "text/plain": [
       "173"
      ]
     },
     "execution_count": 123,
     "metadata": {},
     "output_type": "execute_result"
    }
   ],
   "source": [
    "# for each emb, get number of other emb with less than a certain threshold\n",
    "index_threshold = thresholdMatrix(disMatrix, threshold=0.3, num_threshold=3)\n",
    "len(index_threshold)"
   ]
  },
  {
   "cell_type": "code",
   "execution_count": 124,
   "metadata": {},
   "outputs": [
    {
     "name": "stdout",
     "output_type": "stream",
     "text": [
      "173\n",
      "173\n"
     ]
    }
   ],
   "source": [
    "# compile list of embeddings and word combinations based on indexes\n",
    "X = []\n",
    "y = []\n",
    "for i in index_threshold:\n",
    "    emb = emb_list[i]\n",
    "    embhash = hashdictkey(emb)\n",
    "    wordcomb = emb_to_wordcomb[embhash]\n",
    "    wordcomb = '-'.join(list(wordcomb))\n",
    "    X.append(emb)\n",
    "    y.append(wordcomb)\n",
    "\n",
    "print(len(X))\n",
    "print(len(y))"
   ]
  },
  {
   "cell_type": "code",
   "execution_count": 125,
   "metadata": {},
   "outputs": [],
   "source": [
    "X_embedded = TSNE(n_components=2, perplexity=40, verbose=0).fit_transform(X)"
   ]
  },
  {
   "cell_type": "code",
   "execution_count": 126,
   "metadata": {},
   "outputs": [
    {
     "data": {
      "text/plain": [
       "<matplotlib.collections.PathCollection at 0x7f378a541470>"
      ]
     },
     "execution_count": 126,
     "metadata": {},
     "output_type": "execute_result"
    },
    {
     "data": {
      "image/png": "[encoded data removed]",
      "text/plain": [
       "<matplotlib.figure.Figure at 0x7f378a533780>"
      ]
     },
     "metadata": {},
     "output_type": "display_data"
    }
   ],
   "source": [
    "plt.scatter(X_embedded[:, 0], X_embedded[:, 1])"
   ]
  },
  {
   "cell_type": "code",
   "execution_count": 127,
   "metadata": {},
   "outputs": [
    {
     "data": {
      "text/html": [
       "<iframe id=\"igraph\" scrolling=\"no\" style=\"border:none;\" seamless=\"seamless\" src=\"https://plot.ly/~philsophie/2.embed\" height=\"525px\" width=\"100%\"></iframe>"
      ],
      "text/plain": [
       "<plotly.tools.PlotlyDisplay object>"
      ]
     },
     "execution_count": 127,
     "metadata": {},
     "output_type": "execute_result"
    }
   ],
   "source": [
    "fig = plotplotly(X_embedded, y, text=False)\n",
    "py.iplot(fig, filename='hover-chart-basic')"
   ]
  },
  {
   "cell_type": "markdown",
   "metadata": {},
   "source": [
    "# Gensim most similar"
   ]
  },
  {
   "cell_type": "code",
   "execution_count": 1,
   "metadata": {},
   "outputs": [],
   "source": [
    "from gensim.models import word2vec"
   ]
  },
  {
   "cell_type": "code",
   "execution_count": null,
   "metadata": {},
   "outputs": [],
   "source": [
    "model = word2vec.Word2Vec(sentences, size=200)\n",
    "sentences = word2vec.Text8Corpus('text8')"
   ]
  },
  {
   "cell_type": "code",
   "execution_count": 2,
   "metadata": {},
   "outputs": [],
   "source": [
    "from gensim.test.utils import datapath, get_tmpfile\n",
    "from gensim.models import KeyedVectors\n",
    "from gensim.scripts.glove2word2vec import glove2word2vec\n",
    "\n",
    "glove_file = datapath(\"/home/sophie/AI-Values/glove.6B/glove.6B.300d.txt\")\n",
    "tmp_file = get_tmpfile(\"/home/sophie/AI-Values/glove.6B/glove.6B.300d_word2vec.txt\")\n",
    "\n",
    "_ = glove2word2vec(glove_file, tmp_file)\n",
    "model = KeyedVectors.load_word2vec_format(tmp_file)"
   ]
  },
  {
   "cell_type": "code",
   "execution_count": 33,
   "metadata": {},
   "outputs": [
    {
     "name": "stdout",
     "output_type": "stream",
     "text": [
      "[('confidentiality', 0.5798313617706299), ('liberties', 0.5725791454315186), ('protections', 0.5712763667106628), ('protection', 0.4882546663284302), ('protect', 0.48595649003982544), ('protecting', 0.48228394985198975), ('freedom', 0.460526704788208), ('disclosure', 0.44946324825286865), ('safety', 0.44887790083885193), ('concerns', 0.446600079536438)]\n"
     ]
    }
   ],
   "source": [
    "print(model.most_similar(['privacy']))"
   ]
  },
  {
   "cell_type": "code",
   "execution_count": 36,
   "metadata": {},
   "outputs": [
    {
     "name": "stdout",
     "output_type": "stream",
     "text": [
      "[('knowledge', 0.4611586332321167), ('information', 0.460480272769928), ('cia', 0.4384228587150574)]\n"
     ]
    }
   ],
   "source": [
    "print(model.most_similar(positive=['artificial', 'intelligence'], topn=3))"
   ]
  },
  {
   "cell_type": "code",
   "execution_count": 37,
   "metadata": {},
   "outputs": [
    {
     "name": "stdout",
     "output_type": "stream",
     "text": [
      "[('synthetic', 0.49244236946105957), ('insemination', 0.47381332516670227), ('man-made', 0.45914873480796814), ('natural', 0.4262947142124176), ('sweeteners', 0.42168718576431274), ('artificially', 0.41367924213409424), ('implanted', 0.4032576084136963), ('manmade', 0.391124427318573), ('neural', 0.389220654964447), ('sweetener', 0.38666772842407227)]\n"
     ]
    }
   ],
   "source": [
    "print(model.most_similar(['artificial']))"
   ]
  },
  {
   "cell_type": "code",
   "execution_count": 40,
   "metadata": {},
   "outputs": [
    {
     "name": "stdout",
     "output_type": "stream",
     "text": [
      "[('knowledge', 0.4611586332321167), ('information', 0.460480272769928), ('cia', 0.4384228587150574), ('methods', 0.4249553978443146), ('techniques', 0.4159538149833679), ('source', 0.41385820508003235), ('sophisticated', 0.4133008122444153), ('secret', 0.41233497858047485), ('using', 0.4104449450969696), ('sources', 0.40984243154525757)]\n"
     ]
    }
   ],
   "source": [
    "print(model.most_similar(['artificial', 'intelligence']))"
   ]
  },
  {
   "cell_type": "code",
   "execution_count": 3,
   "metadata": {},
   "outputs": [
    {
     "name": "stdout",
     "output_type": "stream",
     "text": [
      "[('genealogical', 0.6413923501968384), ('genealogies', 0.5469214916229248), ('heraldry', 0.4801636338233948), ('ancestry', 0.4725051522254944), ('lineage', 0.46874651312828064), ('ancestor', 0.43732717633247375), ('genealogist', 0.4359472990036011), ('folklore', 0.4338807463645935), ('origins', 0.4301758408546448), ('tracing', 0.41735735535621643)]\n"
     ]
    }
   ],
   "source": [
    "print(model.most_similar(['genealogy']))"
   ]
  },
  {
   "cell_type": "code",
   "execution_count": 4,
   "metadata": {},
   "outputs": [
    {
     "name": "stdout",
     "output_type": "stream",
     "text": [
      "[('lineages', 0.7093613743782043), ('ancestor', 0.6329213380813599), ('descendant', 0.5997883081436157), ('ancestors', 0.5798022150993347), ('ancestry', 0.5490856170654297), ('descendants', 0.5397379398345947), ('origins', 0.5340539813041687), ('bloodline', 0.5154845714569092), ('patrilineal', 0.5056362152099609), ('paternal', 0.5042784214019775)]\n"
     ]
    }
   ],
   "source": [
    "print(model.most_similar(['lineage']))"
   ]
  },
  {
   "cell_type": "code",
   "execution_count": 5,
   "metadata": {},
   "outputs": [
    {
     "name": "stdout",
     "output_type": "stream",
     "text": [
      "[('resolving', 0.7659726142883301), ('resolved', 0.7524896264076233), ('solve', 0.7424017786979675), ('dispute', 0.6705842018127441), ('disputes', 0.6687039136886597), ('impasse', 0.6213710308074951), ('determination', 0.5951550006866455), ('differences', 0.5740435123443604), ('issue', 0.5731443166732788), ('disagreements', 0.5667888522148132)]\n"
     ]
    }
   ],
   "source": [
    "print(model.most_similar(['resolve']))"
   ]
  },
  {
   "cell_type": "code",
   "execution_count": 6,
   "metadata": {},
   "outputs": [
    {
     "name": "stdout",
     "output_type": "stream",
     "text": [
      "[('conflicts', 0.8084380626678467), ('war', 0.6729421615600586), ('strife', 0.6499618291854858), ('bloodshed', 0.6260631084442139), ('violence', 0.6070914268493652), ('hostilities', 0.6060783267021179), ('tensions', 0.5968263745307922), ('confrontation', 0.5958433151245117), ('crisis', 0.594000518321991), ('fighting', 0.5881012678146362)]\n"
     ]
    }
   ],
   "source": [
    "print(model.most_similar(['conflict']))"
   ]
  },
  {
   "cell_type": "code",
   "execution_count": null,
   "metadata": {},
   "outputs": [],
   "source": []
  }
 ],
 "metadata": {
  "kernelspec": {
   "display_name": "Python 3",
   "language": "python",
   "name": "python3"
  },
  "language_info": {
   "codemirror_mode": {
    "name": "ipython",
    "version": 3
   },
   "file_extension": ".py",
   "mimetype": "text/x-python",
   "name": "python",
   "nbconvert_exporter": "python",
   "pygments_lexer": "ipython3",
   "version": "3.6.4"
  }
 },
 "nbformat": 4,
 "nbformat_minor": 2
}
